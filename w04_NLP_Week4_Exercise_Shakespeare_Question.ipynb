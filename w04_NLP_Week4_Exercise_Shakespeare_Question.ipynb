{
  "nbformat": 4,
  "nbformat_minor": 0,
  "metadata": {
    "colab": {
      "name": "w04: NLP-Week4-Exercise-Shakespeare-Question.ipynb",
      "version": "0.3.2",
      "provenance": [],
      "collapsed_sections": [],
      "include_colab_link": true
    },
    "kernelspec": {
      "name": "python3",
      "display_name": "Python 3"
    },
    "accelerator": "GPU"
  },
  "cells": [
    {
      "cell_type": "markdown",
      "metadata": {
        "id": "view-in-github",
        "colab_type": "text"
      },
      "source": [
        "<a href=\"https://colab.research.google.com/github/denpetrov/01_03_natural-language-processing-tensorflow/blob/master/w04_NLP_Week4_Exercise_Shakespeare_Question.ipynb\" target=\"_parent\"><img src=\"https://colab.research.google.com/assets/colab-badge.svg\" alt=\"Open In Colab\"/></a>"
      ]
    },
    {
      "cell_type": "code",
      "metadata": {
        "id": "BOwsuGQQY9OL",
        "colab_type": "code",
        "colab": {}
      },
      "source": [
        "from tensorflow.keras.preprocessing.sequence import pad_sequences\n",
        "from tensorflow.keras.layers import Embedding, LSTM, Dense, Dropout, Bidirectional\n",
        "from tensorflow.keras.preprocessing.text import Tokenizer\n",
        "from tensorflow.keras.models import Sequential\n",
        "from tensorflow.keras.optimizers import Adam\n",
        "### YOUR CODE HERE\n",
        "from tensorflow.keras import regularizers  # Figure out how to import regularizers\n",
        "###\n",
        "\n",
        "import tensorflow.keras.utils as ku \n",
        "import numpy as np "
      ],
      "execution_count": 0,
      "outputs": []
    },
    {
      "cell_type": "code",
      "metadata": {
        "colab_type": "code",
        "id": "PRnDnCW-Z7qv",
        "colab": {
          "base_uri": "https://localhost:8080/",
          "height": 204
        },
        "outputId": "8deb2eee-8368-42dd-c55b-be037b5e46ba"
      },
      "source": [
        "tokenizer = Tokenizer()\n",
        "!wget --no-check-certificate \\\n",
        "    https://storage.googleapis.com/laurencemoroney-blog.appspot.com/sonnets.txt \\\n",
        "    -O /tmp/sonnets.txt\n",
        "data = open('/tmp/sonnets.txt').read()\n",
        "\n",
        "corpus = data.lower().split(\"\\n\")\n",
        "\n",
        "\n",
        "tokenizer.fit_on_texts(corpus)\n",
        "total_words = len(tokenizer.word_index) + 1\n",
        "\n",
        "# create input sequences using list of tokens\n",
        "input_sequences = []\n",
        "for line in corpus:\n",
        "\ttoken_list = tokenizer.texts_to_sequences([line])[0]\n",
        "\tfor i in range(1, len(token_list)):\n",
        "\t\tn_gram_sequence = token_list[:i+1]\n",
        "\t\tinput_sequences.append(n_gram_sequence)\n",
        "\n",
        "\n",
        "# pad sequences \n",
        "max_sequence_len = max([len(x) for x in input_sequences])\n",
        "input_sequences = np.array(pad_sequences(input_sequences, maxlen=max_sequence_len, padding='pre'))\n",
        "\n",
        "# create predictors and label\n",
        "predictors, label = input_sequences[:,:-1],input_sequences[:,-1]\n",
        "\n",
        "label = ku.to_categorical(label, num_classes=total_words)"
      ],
      "execution_count": 2,
      "outputs": [
        {
          "output_type": "stream",
          "text": [
            "--2019-08-18 13:01:58--  https://storage.googleapis.com/laurencemoroney-blog.appspot.com/sonnets.txt\n",
            "Resolving storage.googleapis.com (storage.googleapis.com)... 64.233.188.128, 2404:6800:4008:c07::80\n",
            "Connecting to storage.googleapis.com (storage.googleapis.com)|64.233.188.128|:443... connected.\n",
            "HTTP request sent, awaiting response... 200 OK\n",
            "Length: 93578 (91K) [text/plain]\n",
            "Saving to: ‘/tmp/sonnets.txt’\n",
            "\n",
            "\r/tmp/sonnets.txt      0%[                    ]       0  --.-KB/s               \r/tmp/sonnets.txt    100%[===================>]  91.38K  --.-KB/s    in 0.001s  \n",
            "\n",
            "2019-08-18 13:01:59 (88.3 MB/s) - ‘/tmp/sonnets.txt’ saved [93578/93578]\n",
            "\n"
          ],
          "name": "stdout"
        }
      ]
    },
    {
      "cell_type": "code",
      "metadata": {
        "id": "w9vH8Y59ajYL",
        "colab_type": "code",
        "colab": {
          "base_uri": "https://localhost:8080/",
          "height": 374
        },
        "outputId": "0c3431ac-aa8b-401a-d09f-a79add6ce907"
      },
      "source": [
        "model = Sequential()\n",
        "model.add(Embedding(total_words, 100, input_length=max_sequence_len - 1))  # Your Embedding Layer\n",
        "model.add(Bidirectional(LSTM(150, return_sequences = True)))  # An LSTM Layer\n",
        "model.add(Dropout(0.20))  # A dropout layer\n",
        "model.add(LSTM(100))  # Another LSTM Layer\n",
        "model.add(Dense(total_words / 2, activation='relu', kernel_regularizer=regularizers.l2(0.01)))  # A Dense Layer including regularizers\n",
        "model.add(Dense(total_words, activation='softmax'))  # A Dense Layer\n",
        "\n",
        "adam = Adam(lr=0.01)  # Pick an optimizer\n",
        "\n",
        "model.compile(loss='categorical_crossentropy', optimizer=adam, metrics=['accuracy'])  # Pick a loss function and an optimizer\n",
        "print(model.summary())\n"
      ],
      "execution_count": 16,
      "outputs": [
        {
          "output_type": "stream",
          "text": [
            "Model: \"sequential_11\"\n",
            "_________________________________________________________________\n",
            "Layer (type)                 Output Shape              Param #   \n",
            "=================================================================\n",
            "embedding_11 (Embedding)     (None, 10, 100)           321100    \n",
            "_________________________________________________________________\n",
            "bidirectional_12 (Bidirectio (None, 10, 300)           301200    \n",
            "_________________________________________________________________\n",
            "dropout_11 (Dropout)         (None, 10, 300)           0         \n",
            "_________________________________________________________________\n",
            "lstm_13 (LSTM)               (None, 100)               160400    \n",
            "_________________________________________________________________\n",
            "dense_21 (Dense)             (None, 1605)              162105    \n",
            "_________________________________________________________________\n",
            "dense_22 (Dense)             (None, 3211)              5156866   \n",
            "=================================================================\n",
            "Total params: 6,101,671\n",
            "Trainable params: 6,101,671\n",
            "Non-trainable params: 0\n",
            "_________________________________________________________________\n",
            "None\n"
          ],
          "name": "stdout"
        }
      ]
    },
    {
      "cell_type": "code",
      "metadata": {
        "id": "AIg2f1HBxqof",
        "colab_type": "code",
        "colab": {
          "base_uri": "https://localhost:8080/",
          "height": 1000
        },
        "outputId": "fdf9635e-6aaa-4f51-9ab8-f569b4c08098"
      },
      "source": [
        " history = model.fit(predictors, label, epochs=100, verbose=1)"
      ],
      "execution_count": 17,
      "outputs": [
        {
          "output_type": "stream",
          "text": [
            "Epoch 1/100\n",
            "15462/15462 [==============================] - 43s 3ms/sample - loss: 6.8842 - acc: 0.0216\n",
            "Epoch 2/100\n",
            "15462/15462 [==============================] - 41s 3ms/sample - loss: 6.5501 - acc: 0.0259\n",
            "Epoch 3/100\n",
            "15462/15462 [==============================] - 41s 3ms/sample - loss: 6.4612 - acc: 0.0273\n",
            "Epoch 4/100\n",
            "15462/15462 [==============================] - 41s 3ms/sample - loss: 6.4063 - acc: 0.0245\n",
            "Epoch 5/100\n",
            "15462/15462 [==============================] - 41s 3ms/sample - loss: 6.3629 - acc: 0.0263\n",
            "Epoch 6/100\n",
            "15462/15462 [==============================] - 41s 3ms/sample - loss: 6.3214 - acc: 0.0261\n",
            "Epoch 7/100\n",
            "15462/15462 [==============================] - 41s 3ms/sample - loss: 6.2803 - acc: 0.0257\n",
            "Epoch 8/100\n",
            "15462/15462 [==============================] - 41s 3ms/sample - loss: 6.2481 - acc: 0.0258\n",
            "Epoch 9/100\n",
            "15462/15462 [==============================] - 41s 3ms/sample - loss: 6.2243 - acc: 0.0276\n",
            "Epoch 10/100\n",
            "15462/15462 [==============================] - 41s 3ms/sample - loss: 6.2044 - acc: 0.0265\n",
            "Epoch 11/100\n",
            "15462/15462 [==============================] - 41s 3ms/sample - loss: 6.1863 - acc: 0.0293\n",
            "Epoch 12/100\n",
            "15462/15462 [==============================] - 41s 3ms/sample - loss: 6.1839 - acc: 0.0290\n",
            "Epoch 13/100\n",
            "15462/15462 [==============================] - 41s 3ms/sample - loss: 6.1624 - acc: 0.0297\n",
            "Epoch 14/100\n",
            "15462/15462 [==============================] - 41s 3ms/sample - loss: 6.1573 - acc: 0.0318\n",
            "Epoch 15/100\n",
            "15462/15462 [==============================] - 41s 3ms/sample - loss: 6.1465 - acc: 0.0326\n",
            "Epoch 16/100\n",
            "15462/15462 [==============================] - 41s 3ms/sample - loss: 6.1261 - acc: 0.0323\n",
            "Epoch 17/100\n",
            "15462/15462 [==============================] - 41s 3ms/sample - loss: 6.1084 - acc: 0.0315\n",
            "Epoch 18/100\n",
            "15462/15462 [==============================] - 41s 3ms/sample - loss: 6.1097 - acc: 0.0319\n",
            "Epoch 19/100\n",
            "15462/15462 [==============================] - 41s 3ms/sample - loss: 6.0951 - acc: 0.0322\n",
            "Epoch 20/100\n",
            "15462/15462 [==============================] - 41s 3ms/sample - loss: 6.0676 - acc: 0.0329\n",
            "Epoch 21/100\n",
            "15462/15462 [==============================] - 41s 3ms/sample - loss: 6.0459 - acc: 0.0358\n",
            "Epoch 22/100\n",
            "15462/15462 [==============================] - 41s 3ms/sample - loss: 6.0263 - acc: 0.0351\n",
            "Epoch 23/100\n",
            "15462/15462 [==============================] - 41s 3ms/sample - loss: 6.0103 - acc: 0.0369\n",
            "Epoch 24/100\n",
            "15462/15462 [==============================] - 41s 3ms/sample - loss: 6.0101 - acc: 0.0366\n",
            "Epoch 25/100\n",
            "15462/15462 [==============================] - 41s 3ms/sample - loss: 5.9933 - acc: 0.0369\n",
            "Epoch 26/100\n",
            "15462/15462 [==============================] - 41s 3ms/sample - loss: 5.9677 - acc: 0.0378\n",
            "Epoch 27/100\n",
            "15462/15462 [==============================] - 41s 3ms/sample - loss: 5.9729 - acc: 0.0380\n",
            "Epoch 28/100\n",
            "15462/15462 [==============================] - 41s 3ms/sample - loss: 5.9575 - acc: 0.0375\n",
            "Epoch 29/100\n",
            "15462/15462 [==============================] - 41s 3ms/sample - loss: 5.9409 - acc: 0.0398\n",
            "Epoch 30/100\n",
            "15462/15462 [==============================] - 41s 3ms/sample - loss: 5.9307 - acc: 0.0376\n",
            "Epoch 31/100\n",
            "15462/15462 [==============================] - 41s 3ms/sample - loss: 5.9057 - acc: 0.0382\n",
            "Epoch 32/100\n",
            "15462/15462 [==============================] - 41s 3ms/sample - loss: 5.9071 - acc: 0.0396\n",
            "Epoch 33/100\n",
            "15462/15462 [==============================] - 41s 3ms/sample - loss: 5.9017 - acc: 0.0402\n",
            "Epoch 34/100\n",
            "15462/15462 [==============================] - 41s 3ms/sample - loss: 5.8888 - acc: 0.0398\n",
            "Epoch 35/100\n",
            "15462/15462 [==============================] - 41s 3ms/sample - loss: 5.8860 - acc: 0.0409\n",
            "Epoch 36/100\n",
            "15462/15462 [==============================] - 41s 3ms/sample - loss: 5.8676 - acc: 0.0401\n",
            "Epoch 37/100\n",
            "15462/15462 [==============================] - 41s 3ms/sample - loss: 5.8561 - acc: 0.0428\n",
            "Epoch 38/100\n",
            "15462/15462 [==============================] - 41s 3ms/sample - loss: 5.8468 - acc: 0.0431\n",
            "Epoch 39/100\n",
            "15462/15462 [==============================] - 41s 3ms/sample - loss: 5.8360 - acc: 0.0418\n",
            "Epoch 40/100\n",
            "15462/15462 [==============================] - 41s 3ms/sample - loss: 5.8169 - acc: 0.0445\n",
            "Epoch 41/100\n",
            "15462/15462 [==============================] - 41s 3ms/sample - loss: 5.8092 - acc: 0.0424\n",
            "Epoch 42/100\n",
            "15462/15462 [==============================] - 41s 3ms/sample - loss: 5.7955 - acc: 0.0417\n",
            "Epoch 43/100\n",
            "15462/15462 [==============================] - 41s 3ms/sample - loss: 5.7913 - acc: 0.0466\n",
            "Epoch 44/100\n",
            "15462/15462 [==============================] - 41s 3ms/sample - loss: 5.7873 - acc: 0.0453\n",
            "Epoch 45/100\n",
            "15462/15462 [==============================] - 41s 3ms/sample - loss: 5.7766 - acc: 0.0447\n",
            "Epoch 46/100\n",
            "15462/15462 [==============================] - 41s 3ms/sample - loss: 5.7762 - acc: 0.0455\n",
            "Epoch 47/100\n",
            "15462/15462 [==============================] - 41s 3ms/sample - loss: 5.7700 - acc: 0.0451\n",
            "Epoch 48/100\n",
            "15462/15462 [==============================] - 41s 3ms/sample - loss: 5.7684 - acc: 0.0482\n",
            "Epoch 49/100\n",
            "15462/15462 [==============================] - 41s 3ms/sample - loss: 5.7634 - acc: 0.0480\n",
            "Epoch 50/100\n",
            "15462/15462 [==============================] - 41s 3ms/sample - loss: 5.7514 - acc: 0.0465\n",
            "Epoch 51/100\n",
            "15462/15462 [==============================] - 41s 3ms/sample - loss: 5.7433 - acc: 0.0466\n",
            "Epoch 52/100\n",
            "15462/15462 [==============================] - 41s 3ms/sample - loss: 5.7370 - acc: 0.0473\n",
            "Epoch 53/100\n",
            "15462/15462 [==============================] - 41s 3ms/sample - loss: 5.7301 - acc: 0.0458\n",
            "Epoch 54/100\n",
            "15462/15462 [==============================] - 41s 3ms/sample - loss: 5.7254 - acc: 0.0458\n",
            "Epoch 55/100\n",
            "15462/15462 [==============================] - 41s 3ms/sample - loss: 5.7245 - acc: 0.0470\n",
            "Epoch 56/100\n",
            "15462/15462 [==============================] - 41s 3ms/sample - loss: 5.7174 - acc: 0.0485\n",
            "Epoch 57/100\n",
            "15462/15462 [==============================] - 41s 3ms/sample - loss: 5.7187 - acc: 0.0477\n",
            "Epoch 58/100\n",
            "15462/15462 [==============================] - 41s 3ms/sample - loss: 5.7053 - acc: 0.0470\n",
            "Epoch 59/100\n",
            "15462/15462 [==============================] - 41s 3ms/sample - loss: 5.7067 - acc: 0.0481\n",
            "Epoch 60/100\n",
            "15462/15462 [==============================] - 41s 3ms/sample - loss: 5.7118 - acc: 0.0472\n",
            "Epoch 61/100\n",
            "15462/15462 [==============================] - 41s 3ms/sample - loss: 5.7171 - acc: 0.0479\n",
            "Epoch 62/100\n",
            "15462/15462 [==============================] - 41s 3ms/sample - loss: 5.7067 - acc: 0.0475\n",
            "Epoch 63/100\n",
            "15462/15462 [==============================] - 41s 3ms/sample - loss: 5.7033 - acc: 0.0490\n",
            "Epoch 64/100\n",
            "15462/15462 [==============================] - 41s 3ms/sample - loss: 5.6974 - acc: 0.0486\n",
            "Epoch 65/100\n",
            "15462/15462 [==============================] - 41s 3ms/sample - loss: 5.6950 - acc: 0.0487\n",
            "Epoch 66/100\n",
            "15462/15462 [==============================] - 41s 3ms/sample - loss: 5.6914 - acc: 0.0483\n",
            "Epoch 67/100\n",
            "15462/15462 [==============================] - 41s 3ms/sample - loss: 5.6932 - acc: 0.0472\n",
            "Epoch 68/100\n",
            "15462/15462 [==============================] - 41s 3ms/sample - loss: 5.6867 - acc: 0.0503\n",
            "Epoch 69/100\n",
            "15462/15462 [==============================] - 41s 3ms/sample - loss: 5.6708 - acc: 0.0486\n",
            "Epoch 70/100\n",
            "15462/15462 [==============================] - 41s 3ms/sample - loss: 5.6773 - acc: 0.0501\n",
            "Epoch 71/100\n",
            "15462/15462 [==============================] - 41s 3ms/sample - loss: 5.6790 - acc: 0.0501\n",
            "Epoch 72/100\n",
            "15462/15462 [==============================] - 41s 3ms/sample - loss: 5.6672 - acc: 0.0508\n",
            "Epoch 73/100\n",
            "15462/15462 [==============================] - 41s 3ms/sample - loss: 5.6427 - acc: 0.0501\n",
            "Epoch 74/100\n",
            "15462/15462 [==============================] - 40s 3ms/sample - loss: 5.6669 - acc: 0.0500\n",
            "Epoch 75/100\n",
            "15462/15462 [==============================] - 41s 3ms/sample - loss: 5.6551 - acc: 0.0514\n",
            "Epoch 76/100\n",
            "15462/15462 [==============================] - 41s 3ms/sample - loss: 5.6579 - acc: 0.0512\n",
            "Epoch 77/100\n",
            "15462/15462 [==============================] - 41s 3ms/sample - loss: 5.6641 - acc: 0.0528\n",
            "Epoch 78/100\n",
            "15462/15462 [==============================] - 41s 3ms/sample - loss: 5.6569 - acc: 0.0515\n",
            "Epoch 79/100\n",
            "15462/15462 [==============================] - 41s 3ms/sample - loss: 5.6506 - acc: 0.0523\n",
            "Epoch 80/100\n",
            "15462/15462 [==============================] - 41s 3ms/sample - loss: 5.6566 - acc: 0.0508\n",
            "Epoch 81/100\n",
            "15462/15462 [==============================] - 41s 3ms/sample - loss: 5.6525 - acc: 0.0514\n",
            "Epoch 82/100\n",
            "15462/15462 [==============================] - 40s 3ms/sample - loss: 5.6544 - acc: 0.0509\n",
            "Epoch 83/100\n",
            "15462/15462 [==============================] - 40s 3ms/sample - loss: 5.6569 - acc: 0.0522\n",
            "Epoch 84/100\n",
            "15462/15462 [==============================] - 40s 3ms/sample - loss: 5.6412 - acc: 0.0534\n",
            "Epoch 85/100\n",
            "15462/15462 [==============================] - 40s 3ms/sample - loss: 5.6405 - acc: 0.0528\n",
            "Epoch 86/100\n",
            "15462/15462 [==============================] - 40s 3ms/sample - loss: 5.6386 - acc: 0.0510\n",
            "Epoch 87/100\n",
            "15462/15462 [==============================] - 40s 3ms/sample - loss: 5.6507 - acc: 0.0527\n",
            "Epoch 88/100\n",
            "15462/15462 [==============================] - 40s 3ms/sample - loss: 5.6292 - acc: 0.0531\n",
            "Epoch 89/100\n",
            "15462/15462 [==============================] - 40s 3ms/sample - loss: 5.6426 - acc: 0.0532\n",
            "Epoch 90/100\n",
            "15462/15462 [==============================] - 40s 3ms/sample - loss: 5.6318 - acc: 0.0506\n",
            "Epoch 91/100\n",
            "15462/15462 [==============================] - 40s 3ms/sample - loss: 5.6494 - acc: 0.0531\n",
            "Epoch 92/100\n",
            "15462/15462 [==============================] - 40s 3ms/sample - loss: 5.6433 - acc: 0.0510\n",
            "Epoch 93/100\n",
            "15462/15462 [==============================] - 40s 3ms/sample - loss: 5.6438 - acc: 0.0534\n",
            "Epoch 94/100\n",
            "15462/15462 [==============================] - 39s 3ms/sample - loss: 5.6524 - acc: 0.0503\n",
            "Epoch 95/100\n",
            "15462/15462 [==============================] - 39s 3ms/sample - loss: 5.6345 - acc: 0.0530\n",
            "Epoch 96/100\n",
            "15462/15462 [==============================] - 39s 3ms/sample - loss: 5.6457 - acc: 0.0513\n",
            "Epoch 97/100\n",
            "15462/15462 [==============================] - 39s 3ms/sample - loss: 5.6600 - acc: 0.0518\n",
            "Epoch 98/100\n",
            "15462/15462 [==============================] - 39s 3ms/sample - loss: 5.6711 - acc: 0.0528\n",
            "Epoch 99/100\n",
            "15462/15462 [==============================] - 40s 3ms/sample - loss: 5.6501 - acc: 0.0545\n",
            "Epoch 100/100\n",
            "15462/15462 [==============================] - 39s 3ms/sample - loss: 5.6540 - acc: 0.0549\n"
          ],
          "name": "stdout"
        }
      ]
    },
    {
      "cell_type": "code",
      "metadata": {
        "id": "1fXTEO3GJ282",
        "colab_type": "code",
        "colab": {
          "base_uri": "https://localhost:8080/",
          "height": 545
        },
        "outputId": "68128c5b-3d97-4eed-fe5b-da5aa07da9da"
      },
      "source": [
        "import matplotlib.pyplot as plt\n",
        "acc = history.history['acc']\n",
        "loss = history.history['loss']\n",
        "\n",
        "epochs = range(len(acc))\n",
        "\n",
        "plt.plot(epochs, acc, 'b', label='Training accuracy')\n",
        "plt.title('Training accuracy')\n",
        "\n",
        "plt.figure()\n",
        "\n",
        "plt.plot(epochs, loss, 'b', label='Training Loss')\n",
        "plt.title('Training loss')\n",
        "plt.legend()\n",
        "\n",
        "plt.show()"
      ],
      "execution_count": 18,
      "outputs": [
        {
          "output_type": "display_data",
          "data": {
            "image/png": "[encoded data removed]",
            "text/plain": [
              "<Figure size 432x288 with 1 Axes>"
            ]
          },
          "metadata": {
            "tags": []
          }
        },
        {
          "output_type": "display_data",
          "data": {
            "image/png": "[encoded data removed]",
            "text/plain": [
              "<Figure size 432x288 with 1 Axes>"
            ]
          },
          "metadata": {
            "tags": []
          }
        }
      ]
    },
    {
      "cell_type": "code",
      "metadata": {
        "id": "6Vc6PHgxa6Hm",
        "colab_type": "code",
        "colab": {
          "base_uri": "https://localhost:8080/",
          "height": 54
        },
        "outputId": "fc15d2e4-0328-4d89-9624-46efc20574c3"
      },
      "source": [
        "seed_text = \"Help me Obi Wan Kenobi, you're my only hope\"\n",
        "next_words = 100\n",
        "  \n",
        "for _ in range(next_words):\n",
        "\ttoken_list = tokenizer.texts_to_sequences([seed_text])[0]\n",
        "\ttoken_list = pad_sequences([token_list], maxlen=max_sequence_len-1, padding='pre')\n",
        "\tpredicted = model.predict_classes(token_list, verbose=0)\n",
        "\toutput_word = \"\"\n",
        "\tfor word, index in tokenizer.word_index.items():\n",
        "\t\tif index == predicted:\n",
        "\t\t\toutput_word = word\n",
        "\t\t\tbreak\n",
        "\tseed_text += \" \" + output_word\n",
        "print(seed_text)"
      ],
      "execution_count": 19,
      "outputs": [
        {
          "output_type": "stream",
          "text": [
            "Help me Obi Wan Kenobi, you're my only hope in the world to the world to the world to the world to the world to the world to the world to the world to the world to the world to the world to the world to the world to the world to the world to the world to the world to the world to the world to the world to the world to the world to the world to the world to the world to the world to the world to the world to the world to the world to the world to the world to the world to\n"
          ],
          "name": "stdout"
        }
      ]
    }
  ]
}