{
  "nbformat": 4,
  "nbformat_minor": 0,
  "metadata": {
    "colab": {
      "name": "w03: NLP Course - Week 3 Exercise Question.ipynb",
      "version": "0.3.2",
      "provenance": [],
      "collapsed_sections": [],
      "include_colab_link": true
    },
    "kernelspec": {
      "name": "python3",
      "display_name": "Python 3"
    },
    "accelerator": "GPU"
  },
  "cells": [
    {
      "cell_type": "markdown",
      "metadata": {
        "id": "view-in-github",
        "colab_type": "text"
      },
      "source": [
        "<a href=\"https://colab.research.google.com/github/denpetrov/01_03_natural-language-processing-tensorflow/blob/master/w03_NLP_Course_Week_3_Exercise_Question.ipynb\" target=\"_parent\"><img src=\"https://colab.research.google.com/assets/colab-badge.svg\" alt=\"Open In Colab\"/></a>"
      ]
    },
    {
      "cell_type": "code",
      "metadata": {
        "id": "hmA6EzkQJ5jt",
        "colab_type": "code",
        "colab": {}
      },
      "source": [
        "import json\n",
        "import tensorflow as tf\n",
        "import csv\n",
        "import random\n",
        "import numpy as np\n",
        "\n",
        "from tensorflow.keras.preprocessing.text import Tokenizer\n",
        "from tensorflow.keras.preprocessing.sequence import pad_sequences\n",
        "from tensorflow.keras.utils import to_categorical\n",
        "from tensorflow.keras import regularizers\n",
        "\n",
        "\n",
        "embedding_dim = 100\n",
        "max_length = 16\n",
        "trunc_type='post'\n",
        "padding_type='post'\n",
        "oov_tok = \"<OOV>\"\n",
        "training_size = 160000  # Your dataset size here. Experiment using smaller values (i.e. 16000), but don't forget to train on at least 160000 to see the best effects\n",
        "test_portion = .1\n",
        "\n",
        "corpus = []\n"
      ],
      "execution_count": 0,
      "outputs": []
    },
    {
      "cell_type": "code",
      "metadata": {
        "id": "ca6ANwBNQE7x",
        "colab_type": "code",
        "outputId": "4274b518-09cf-410f-c246-02086795496b",
        "colab": {
          "base_uri": "https://localhost:8080/",
          "height": 204
        }
      },
      "source": [
        "\n",
        "# Note that I cleaned the Stanford dataset to remove LATIN1 encoding to make it easier for Python CSV reader\n",
        "# You can do that yourself with:\n",
        "# iconv -f LATIN1 -t UTF8 training.1600000.processed.noemoticon.csv -o training_cleaned.csv\n",
        "# I then hosted it on my site to make it easier to use in this notebook\n",
        "\n",
        "!wget --no-check-certificate \\\n",
        "    https://storage.googleapis.com/laurencemoroney-blog.appspot.com/training_cleaned.csv \\\n",
        "    -O /tmp/training_cleaned.csv"
      ],
      "execution_count": 2,
      "outputs": [
        {
          "output_type": "stream",
          "text": [
            "--2019-08-15 19:12:06--  https://storage.googleapis.com/laurencemoroney-blog.appspot.com/training_cleaned.csv\n",
            "Resolving storage.googleapis.com (storage.googleapis.com)... 74.125.70.128, 2607:f8b0:4001:c07::80\n",
            "Connecting to storage.googleapis.com (storage.googleapis.com)|74.125.70.128|:443... connected.\n",
            "HTTP request sent, awaiting response... 200 OK\n",
            "Length: 238942690 (228M) [application/octet-stream]\n",
            "Saving to: ‘/tmp/training_cleaned.csv’\n",
            "\n",
            "/tmp/training_clean 100%[===================>] 227.87M   246MB/s    in 0.9s    \n",
            "\n",
            "2019-08-15 19:12:07 (246 MB/s) - ‘/tmp/training_cleaned.csv’ saved [238942690/238942690]\n",
            "\n"
          ],
          "name": "stdout"
        }
      ]
    },
    {
      "cell_type": "code",
      "metadata": {
        "id": "5l5OXUCHQPA6",
        "colab_type": "code",
        "colab": {}
      },
      "source": [
        "num_sentences = 0\n",
        "\n",
        "with open(\"/tmp/training_cleaned.csv\") as csvfile:\n",
        "    reader = csv.reader(csvfile, delimiter=',')\n",
        "    for row in reader:\n",
        "      # Your Code here. Create list items where the first item is the text, found in row[5], and the second is the label. Note that the label is a '0' or a '4' in the text. When it's the former, make\n",
        "      # your label to be 0, otherwise 1. Keep a count of the number of sentences in num_sentences\n",
        "      list_item = []\n",
        "      list_item.append(row[5])\n",
        "      if row[0] == '0':\n",
        "        label = 0\n",
        "      else:\n",
        "        label = 1\n",
        "      list_item.append(label)\n",
        "      # YOUR CODE HERE\n",
        "      num_sentences = num_sentences + 1\n",
        "      corpus.append(list_item)\n"
      ],
      "execution_count": 0,
      "outputs": []
    },
    {
      "cell_type": "code",
      "metadata": {
        "id": "3kxblBUjEUX-",
        "colab_type": "code",
        "outputId": "b564eb41-d8a5-4df7-971e-11ea8af12806",
        "colab": {
          "base_uri": "https://localhost:8080/",
          "height": 68
        }
      },
      "source": [
        "print(num_sentences)\n",
        "print(len(corpus))\n",
        "print(corpus[1])\n",
        "\n",
        "# Expected Output:\n",
        "# 1600000\n",
        "# 1600000\n",
        "# [\"is upset that he can't update his Facebook by texting it... and might cry as a result  School today also. Blah!\", 0]"
      ],
      "execution_count": 4,
      "outputs": [
        {
          "output_type": "stream",
          "text": [
            "1600000\n",
            "1600000\n",
            "[\"is upset that he can't update his Facebook by texting it... and might cry as a result  School today also. Blah!\", 0]\n"
          ],
          "name": "stdout"
        }
      ]
    },
    {
      "cell_type": "code",
      "metadata": {
        "id": "ohOGz24lsNAD",
        "colab_type": "code",
        "colab": {}
      },
      "source": [
        "sentences = []\n",
        "labels = []\n",
        "random.shuffle(corpus)\n",
        "for x in range(training_size):\n",
        "    sentences.append(corpus[x][0])  # YOUR CODE HERE\n",
        "    labels.append(corpus[x][1])  # YOUR CODE HERE\n",
        "\n",
        "\n",
        "tokenizer = Tokenizer()\n",
        "tokenizer.fit_on_texts(sentences)  # YOUR CODE HERE\n",
        "\n",
        "word_index = tokenizer.word_index\n",
        "vocab_size = len(word_index)  # YOUR CODE HERE)\n",
        "\n",
        "sequences = tokenizer.texts_to_sequences(sentences)  # YOUR CODE HERE)\n",
        "padded = pad_sequences(sequences, maxlen=max_length, padding=padding_type, truncating=trunc_type)  # YOUR CODE HERE)\n",
        "\n",
        "split = int(test_portion * training_size)\n",
        "\n",
        "test_sequences = padded[0:split]  # YOUR CODE HERE]\n",
        "training_sequences = padded[split:training_size]  # YOUR CODE HERE]\n",
        "test_labels = labels[0:split]  # YOUR CODE HERE]\n",
        "training_labels = labels[split:training_size]  # YOUR CODE HERE]"
      ],
      "execution_count": 0,
      "outputs": []
    },
    {
      "cell_type": "code",
      "metadata": {
        "id": "gIrtRem1En3N",
        "colab_type": "code",
        "outputId": "4cd72db4-b9cb-4b8f-828c-9ea183695ae6",
        "colab": {
          "base_uri": "https://localhost:8080/",
          "height": 51
        }
      },
      "source": [
        "print(vocab_size)\n",
        "print(word_index['i'])\n",
        "# Expected Output\n",
        "# 138858\n",
        "# 1"
      ],
      "execution_count": 7,
      "outputs": [
        {
          "output_type": "stream",
          "text": [
            "137952\n",
            "1\n"
          ],
          "name": "stdout"
        }
      ]
    },
    {
      "cell_type": "code",
      "metadata": {
        "id": "C1zdgJkusRh0",
        "colab_type": "code",
        "outputId": "5bf0757f-1bd9-48fc-9a63-e72a8f4ad8e0",
        "colab": {
          "base_uri": "https://localhost:8080/",
          "height": 204
        }
      },
      "source": [
        "# Note this is the 100 dimension version of GloVe from Stanford\n",
        "# I unzipped and hosted it on my site to make this notebook easier\n",
        "!wget --no-check-certificate \\\n",
        "    https://storage.googleapis.com/laurencemoroney-blog.appspot.com/glove.6B.100d.txt \\\n",
        "    -O /tmp/glove.6B.100d.txt\n",
        "embeddings_index = {};\n",
        "with open('/tmp/glove.6B.100d.txt') as f:\n",
        "    for line in f:\n",
        "        values = line.split();\n",
        "        word = values[0];\n",
        "        coefs = np.asarray(values[1:], dtype='float32');\n",
        "        embeddings_index[word] = coefs;\n",
        "\n",
        "embeddings_matrix = np.zeros((vocab_size+1, embedding_dim));\n",
        "for word, i in word_index.items():\n",
        "    embedding_vector = embeddings_index.get(word);\n",
        "    if embedding_vector is not None:\n",
        "        embeddings_matrix[i] = embedding_vector;"
      ],
      "execution_count": 8,
      "outputs": [
        {
          "output_type": "stream",
          "text": [
            "--2019-08-15 19:22:14--  https://storage.googleapis.com/laurencemoroney-blog.appspot.com/glove.6B.100d.txt\n",
            "Resolving storage.googleapis.com (storage.googleapis.com)... 74.125.129.128, 2607:f8b0:4001:c14::80\n",
            "Connecting to storage.googleapis.com (storage.googleapis.com)|74.125.129.128|:443... connected.\n",
            "HTTP request sent, awaiting response... 200 OK\n",
            "Length: 347116733 (331M) [text/plain]\n",
            "Saving to: ‘/tmp/glove.6B.100d.txt’\n",
            "\n",
            "/tmp/glove.6B.100d. 100%[===================>] 331.04M   168MB/s    in 2.0s    \n",
            "\n",
            "2019-08-15 19:22:16 (168 MB/s) - ‘/tmp/glove.6B.100d.txt’ saved [347116733/347116733]\n",
            "\n"
          ],
          "name": "stdout"
        }
      ]
    },
    {
      "cell_type": "code",
      "metadata": {
        "id": "71NLk_lpFLNt",
        "colab_type": "code",
        "outputId": "b3d89cb9-47a3-4ed6-b9da-7c1dc43ba723",
        "colab": {
          "base_uri": "https://localhost:8080/",
          "height": 34
        }
      },
      "source": [
        "print(len(embeddings_matrix))\n",
        "# Expected Output\n",
        "# 138859"
      ],
      "execution_count": 9,
      "outputs": [
        {
          "output_type": "stream",
          "text": [
            "137953\n"
          ],
          "name": "stdout"
        }
      ]
    },
    {
      "cell_type": "code",
      "metadata": {
        "colab_type": "code",
        "id": "iKKvbuEBOGFz",
        "outputId": "f11b21b7-f256-4793-e8ed-6a14da218ac8",
        "colab": {
          "base_uri": "https://localhost:8080/",
          "height": 1000
        }
      },
      "source": [
        "model = tf.keras.Sequential([\n",
        "    tf.keras.layers.Embedding(vocab_size+1, embedding_dim, input_length=max_length, weights=[embeddings_matrix], trainable=False),\n",
        "    # YOUR CODE HERE - experiment with combining different types, such as convolutions and LSTMs\n",
        "    tf.keras.layers.GlobalAveragePooling1D(),\n",
        "    tf.keras.layers.Dense(6, activation='relu'),\n",
        "    tf.keras.layers.Dense(1, activation='sigmoid')\n",
        "])\n",
        "\n",
        "model.compile(loss='binary_crossentropy', optimizer='adam', metrics=['accuracy'])  # YOUR CODE HERE\n",
        "model.summary()\n",
        "\n",
        "num_epochs = 50\n",
        "history = model.fit(training_sequences, training_labels, epochs=num_epochs, validation_data=(test_sequences, test_labels), verbose=2)\n",
        "\n",
        "print(\"Training Complete\")\n"
      ],
      "execution_count": 10,
      "outputs": [
        {
          "output_type": "stream",
          "text": [
            "WARNING: Logging before flag parsing goes to stderr.\n",
            "W0815 19:22:26.107003 140285962925952 deprecation.py:506] From /usr/local/lib/python3.6/dist-packages/tensorflow/python/keras/initializers.py:119: calling RandomUniform.__init__ (from tensorflow.python.ops.init_ops) with dtype is deprecated and will be removed in a future version.\n",
            "Instructions for updating:\n",
            "Call initializer instance with the dtype argument instead of passing it to the constructor\n",
            "W0815 19:22:26.112392 140285962925952 deprecation.py:506] From /usr/local/lib/python3.6/dist-packages/tensorflow/python/ops/init_ops.py:1251: calling VarianceScaling.__init__ (from tensorflow.python.ops.init_ops) with dtype is deprecated and will be removed in a future version.\n",
            "Instructions for updating:\n",
            "Call initializer instance with the dtype argument instead of passing it to the constructor\n",
            "W0815 19:22:27.050037 140285962925952 deprecation.py:323] From /usr/local/lib/python3.6/dist-packages/tensorflow/python/ops/nn_impl.py:180: add_dispatch_support.<locals>.wrapper (from tensorflow.python.ops.array_ops) is deprecated and will be removed in a future version.\n",
            "Instructions for updating:\n",
            "Use tf.where in 2.0, which has the same broadcast rule as np.where\n"
          ],
          "name": "stderr"
        },
        {
          "output_type": "stream",
          "text": [
            "Model: \"sequential\"\n",
            "_________________________________________________________________\n",
            "Layer (type)                 Output Shape              Param #   \n",
            "=================================================================\n",
            "embedding (Embedding)        (None, 16, 100)           13795300  \n",
            "_________________________________________________________________\n",
            "global_average_pooling1d (Gl (None, 100)               0         \n",
            "_________________________________________________________________\n",
            "dense (Dense)                (None, 6)                 606       \n",
            "_________________________________________________________________\n",
            "dense_1 (Dense)              (None, 1)                 7         \n",
            "=================================================================\n",
            "Total params: 13,795,913\n",
            "Trainable params: 613\n",
            "Non-trainable params: 13,795,300\n",
            "_________________________________________________________________\n",
            "Train on 144000 samples, validate on 16000 samples\n",
            "Epoch 1/50\n",
            "144000/144000 - 10s - loss: 0.6132 - acc: 0.6714 - val_loss: 0.5893 - val_acc: 0.6881\n",
            "Epoch 2/50\n",
            "144000/144000 - 10s - loss: 0.5854 - acc: 0.6907 - val_loss: 0.5848 - val_acc: 0.6869\n",
            "Epoch 3/50\n",
            "144000/144000 - 10s - loss: 0.5799 - acc: 0.6934 - val_loss: 0.5854 - val_acc: 0.6864\n",
            "Epoch 4/50\n",
            "144000/144000 - 10s - loss: 0.5772 - acc: 0.6956 - val_loss: 0.5763 - val_acc: 0.6976\n",
            "Epoch 5/50\n",
            "144000/144000 - 10s - loss: 0.5759 - acc: 0.6969 - val_loss: 0.5744 - val_acc: 0.6991\n",
            "Epoch 6/50\n",
            "144000/144000 - 10s - loss: 0.5750 - acc: 0.6973 - val_loss: 0.5734 - val_acc: 0.7003\n",
            "Epoch 7/50\n",
            "144000/144000 - 10s - loss: 0.5743 - acc: 0.6980 - val_loss: 0.5742 - val_acc: 0.7007\n",
            "Epoch 8/50\n",
            "144000/144000 - 10s - loss: 0.5732 - acc: 0.6984 - val_loss: 0.5726 - val_acc: 0.7005\n",
            "Epoch 9/50\n",
            "144000/144000 - 10s - loss: 0.5730 - acc: 0.6980 - val_loss: 0.5728 - val_acc: 0.7024\n",
            "Epoch 10/50\n",
            "144000/144000 - 10s - loss: 0.5724 - acc: 0.6985 - val_loss: 0.5736 - val_acc: 0.6993\n",
            "Epoch 11/50\n",
            "144000/144000 - 10s - loss: 0.5719 - acc: 0.6993 - val_loss: 0.5742 - val_acc: 0.6998\n",
            "Epoch 12/50\n",
            "144000/144000 - 10s - loss: 0.5716 - acc: 0.6997 - val_loss: 0.5722 - val_acc: 0.7040\n",
            "Epoch 13/50\n",
            "144000/144000 - 10s - loss: 0.5712 - acc: 0.6986 - val_loss: 0.5713 - val_acc: 0.7017\n",
            "Epoch 14/50\n",
            "144000/144000 - 10s - loss: 0.5708 - acc: 0.6994 - val_loss: 0.5716 - val_acc: 0.7012\n",
            "Epoch 15/50\n",
            "144000/144000 - 10s - loss: 0.5699 - acc: 0.7010 - val_loss: 0.5716 - val_acc: 0.7032\n",
            "Epoch 16/50\n",
            "144000/144000 - 10s - loss: 0.5694 - acc: 0.7009 - val_loss: 0.5700 - val_acc: 0.7039\n",
            "Epoch 17/50\n",
            "144000/144000 - 10s - loss: 0.5687 - acc: 0.7028 - val_loss: 0.5703 - val_acc: 0.7042\n",
            "Epoch 18/50\n",
            "144000/144000 - 10s - loss: 0.5683 - acc: 0.7026 - val_loss: 0.5700 - val_acc: 0.7036\n",
            "Epoch 19/50\n",
            "144000/144000 - 10s - loss: 0.5676 - acc: 0.7026 - val_loss: 0.5681 - val_acc: 0.7063\n",
            "Epoch 20/50\n",
            "144000/144000 - 10s - loss: 0.5672 - acc: 0.7032 - val_loss: 0.5697 - val_acc: 0.7045\n",
            "Epoch 21/50\n",
            "144000/144000 - 10s - loss: 0.5669 - acc: 0.7042 - val_loss: 0.5677 - val_acc: 0.7054\n",
            "Epoch 22/50\n",
            "144000/144000 - 10s - loss: 0.5667 - acc: 0.7040 - val_loss: 0.5677 - val_acc: 0.7083\n",
            "Epoch 23/50\n",
            "144000/144000 - 10s - loss: 0.5665 - acc: 0.7038 - val_loss: 0.5684 - val_acc: 0.7045\n",
            "Epoch 24/50\n",
            "144000/144000 - 10s - loss: 0.5661 - acc: 0.7040 - val_loss: 0.5673 - val_acc: 0.7056\n",
            "Epoch 25/50\n",
            "144000/144000 - 10s - loss: 0.5662 - acc: 0.7052 - val_loss: 0.5744 - val_acc: 0.6991\n",
            "Epoch 26/50\n",
            "144000/144000 - 10s - loss: 0.5662 - acc: 0.7037 - val_loss: 0.5709 - val_acc: 0.7023\n",
            "Epoch 27/50\n",
            "144000/144000 - 10s - loss: 0.5656 - acc: 0.7045 - val_loss: 0.5674 - val_acc: 0.7064\n",
            "Epoch 28/50\n",
            "144000/144000 - 10s - loss: 0.5655 - acc: 0.7051 - val_loss: 0.5671 - val_acc: 0.7056\n",
            "Epoch 29/50\n",
            "144000/144000 - 10s - loss: 0.5657 - acc: 0.7042 - val_loss: 0.5685 - val_acc: 0.7059\n",
            "Epoch 30/50\n",
            "144000/144000 - 10s - loss: 0.5656 - acc: 0.7048 - val_loss: 0.5705 - val_acc: 0.7037\n",
            "Epoch 31/50\n",
            "144000/144000 - 10s - loss: 0.5653 - acc: 0.7050 - val_loss: 0.5675 - val_acc: 0.7053\n",
            "Epoch 32/50\n",
            "144000/144000 - 10s - loss: 0.5651 - acc: 0.7053 - val_loss: 0.5661 - val_acc: 0.7071\n",
            "Epoch 33/50\n",
            "144000/144000 - 10s - loss: 0.5652 - acc: 0.7057 - val_loss: 0.5682 - val_acc: 0.7039\n",
            "Epoch 34/50\n",
            "144000/144000 - 10s - loss: 0.5649 - acc: 0.7058 - val_loss: 0.5673 - val_acc: 0.7068\n",
            "Epoch 35/50\n",
            "144000/144000 - 10s - loss: 0.5649 - acc: 0.7056 - val_loss: 0.5667 - val_acc: 0.7041\n",
            "Epoch 36/50\n",
            "144000/144000 - 10s - loss: 0.5646 - acc: 0.7061 - val_loss: 0.5684 - val_acc: 0.7042\n",
            "Epoch 37/50\n",
            "144000/144000 - 10s - loss: 0.5647 - acc: 0.7058 - val_loss: 0.5677 - val_acc: 0.7064\n",
            "Epoch 38/50\n",
            "144000/144000 - 10s - loss: 0.5646 - acc: 0.7063 - val_loss: 0.5681 - val_acc: 0.7031\n",
            "Epoch 39/50\n",
            "144000/144000 - 10s - loss: 0.5645 - acc: 0.7058 - val_loss: 0.5729 - val_acc: 0.6982\n",
            "Epoch 40/50\n",
            "144000/144000 - 10s - loss: 0.5643 - acc: 0.7064 - val_loss: 0.5678 - val_acc: 0.7032\n",
            "Epoch 41/50\n",
            "144000/144000 - 10s - loss: 0.5645 - acc: 0.7064 - val_loss: 0.5662 - val_acc: 0.7056\n",
            "Epoch 42/50\n",
            "144000/144000 - 10s - loss: 0.5644 - acc: 0.7065 - val_loss: 0.5665 - val_acc: 0.7042\n",
            "Epoch 43/50\n",
            "144000/144000 - 10s - loss: 0.5641 - acc: 0.7064 - val_loss: 0.5672 - val_acc: 0.7044\n",
            "Epoch 44/50\n",
            "144000/144000 - 10s - loss: 0.5643 - acc: 0.7061 - val_loss: 0.5659 - val_acc: 0.7054\n",
            "Epoch 45/50\n",
            "144000/144000 - 10s - loss: 0.5643 - acc: 0.7065 - val_loss: 0.5675 - val_acc: 0.7039\n",
            "Epoch 46/50\n",
            "144000/144000 - 10s - loss: 0.5639 - acc: 0.7073 - val_loss: 0.5681 - val_acc: 0.7053\n",
            "Epoch 47/50\n",
            "144000/144000 - 10s - loss: 0.5640 - acc: 0.7072 - val_loss: 0.5660 - val_acc: 0.7056\n",
            "Epoch 48/50\n",
            "144000/144000 - 10s - loss: 0.5638 - acc: 0.7057 - val_loss: 0.5669 - val_acc: 0.7045\n",
            "Epoch 49/50\n",
            "144000/144000 - 10s - loss: 0.5639 - acc: 0.7064 - val_loss: 0.5663 - val_acc: 0.7081\n",
            "Epoch 50/50\n",
            "144000/144000 - 10s - loss: 0.5637 - acc: 0.7067 - val_loss: 0.5660 - val_acc: 0.7051\n",
            "Training Complete\n"
          ],
          "name": "stdout"
        }
      ]
    },
    {
      "cell_type": "code",
      "metadata": {
        "id": "qxju4ItJKO8F",
        "colab_type": "code",
        "outputId": "e97046aa-5bcc-43e9-e49d-bc2b4f65d626",
        "colab": {
          "base_uri": "https://localhost:8080/",
          "height": 607
        }
      },
      "source": [
        "import matplotlib.image  as mpimg\n",
        "import matplotlib.pyplot as plt\n",
        "\n",
        "#-----------------------------------------------------------\n",
        "# Retrieve a list of list results on training and test data\n",
        "# sets for each training epoch\n",
        "#-----------------------------------------------------------\n",
        "acc = history.history['acc']\n",
        "val_acc = history.history['val_acc']\n",
        "loss=history.history['loss']\n",
        "val_loss = history.history['val_loss']\n",
        "\n",
        "epochs = range(len(acc)) # Get number of epochs\n",
        "\n",
        "#------------------------------------------------\n",
        "# Plot training and validation accuracy per epoch\n",
        "#------------------------------------------------\n",
        "plt.plot(epochs, acc, 'r')\n",
        "plt.plot(epochs, val_acc, 'b')\n",
        "plt.title('Training and validation accuracy')\n",
        "plt.xlabel(\"Epochs\")\n",
        "plt.ylabel(\"Accuracy\")\n",
        "plt.legend([\"Accuracy\", \"Validation Accuracy\"])\n",
        "\n",
        "plt.figure()\n",
        "\n",
        "#------------------------------------------------\n",
        "# Plot training and validation loss per epoch\n",
        "#------------------------------------------------\n",
        "plt.plot(epochs, loss, 'r')\n",
        "plt.plot(epochs, val_loss, 'b')\n",
        "plt.title('Training and validation loss')\n",
        "plt.xlabel(\"Epochs\")\n",
        "plt.ylabel(\"Loss\")\n",
        "plt.legend([\"Loss\", \"Validation Loss\"])\n",
        "\n",
        "plt.figure()\n",
        "\n",
        "\n",
        "# Expected Output\n",
        "# A chart where the validation loss does not increase sharply!"
      ],
      "execution_count": 11,
      "outputs": [
        {
          "output_type": "execute_result",
          "data": {
            "text/plain": [
              "<Figure size 432x288 with 0 Axes>"
            ]
          },
          "metadata": {
            "tags": []
          },
          "execution_count": 11
        },
        {
          "output_type": "display_data",
          "data": {
            "image/png": "[encoded data removed]",
            "text/plain": [
              "<Figure size 432x288 with 1 Axes>"
            ]
          },
          "metadata": {
            "tags": []
          }
        },
        {
          "output_type": "display_data",
          "data": {
            "image/png": "[encoded data removed]",
            "text/plain": [
              "<Figure size 432x288 with 1 Axes>"
            ]
          },
          "metadata": {
            "tags": []
          }
        },
        {
          "output_type": "display_data",
          "data": {
            "text/plain": [
              "<Figure size 432x288 with 0 Axes>"
            ]
          },
          "metadata": {
            "tags": []
          }
        }
      ]
    },
    {
      "cell_type": "code",
      "metadata": {
        "id": "pJQk3RkauvCv",
        "colab_type": "code",
        "colab": {}
      },
      "source": [
        ""
      ],
      "execution_count": 0,
      "outputs": []
    }
  ]
}