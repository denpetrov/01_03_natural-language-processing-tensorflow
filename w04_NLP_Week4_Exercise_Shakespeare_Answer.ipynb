{
  "nbformat": 4,
  "nbformat_minor": 0,
  "metadata": {
    "colab": {
      "name": "w04: NLP_Week4_Exercise_Shakespeare_Answer.ipynb",
      "version": "0.3.2",
      "provenance": [],
      "include_colab_link": true
    },
    "kernelspec": {
      "name": "python3",
      "display_name": "Python 3"
    },
    "accelerator": "GPU"
  },
  "cells": [
    {
      "cell_type": "markdown",
      "metadata": {
        "id": "view-in-github",
        "colab_type": "text"
      },
      "source": [
        "<a href=\"https://colab.research.google.com/github/denpetrov/01_03_natural-language-processing-tensorflow/blob/master/w04_NLP_Week4_Exercise_Shakespeare_Answer.ipynb\" target=\"_parent\"><img src=\"https://colab.research.google.com/assets/colab-badge.svg\" alt=\"Open In Colab\"/></a>"
      ]
    },
    {
      "cell_type": "code",
      "metadata": {
        "id": "BOwsuGQQY9OL",
        "colab_type": "code",
        "colab": {}
      },
      "source": [
        "from tensorflow.keras.preprocessing.sequence import pad_sequences\n",
        "from tensorflow.keras.layers import Embedding, LSTM, Dense, Dropout, Bidirectional\n",
        "from tensorflow.keras.preprocessing.text import Tokenizer\n",
        "from tensorflow.keras.models import Sequential\n",
        "from tensorflow.keras.optimizers import Adam\n",
        "from tensorflow.keras import regularizers\n",
        "import tensorflow.keras.utils as ku \n",
        "import numpy as np "
      ],
      "execution_count": 0,
      "outputs": []
    },
    {
      "cell_type": "code",
      "metadata": {
        "colab_type": "code",
        "id": "PRnDnCW-Z7qv",
        "colab": {
          "base_uri": "https://localhost:8080/",
          "height": 204
        },
        "outputId": "d4f1862f-2b80-4af0-f503-38e9fd7b989d"
      },
      "source": [
        "tokenizer = Tokenizer()\n",
        "!wget --no-check-certificate \\\n",
        "    https://storage.googleapis.com/laurencemoroney-blog.appspot.com/sonnets.txt \\\n",
        "    -O /tmp/sonnets.txt\n",
        "data = open('/tmp/sonnets.txt').read()\n",
        "\n",
        "corpus = data.lower().split(\"\\n\")\n",
        "\n",
        "\n",
        "tokenizer.fit_on_texts(corpus)\n",
        "total_words = len(tokenizer.word_index) + 1\n",
        "\n",
        "# create input sequences using list of tokens\n",
        "input_sequences = []\n",
        "for line in corpus:\n",
        "\ttoken_list = tokenizer.texts_to_sequences([line])[0]\n",
        "\tfor i in range(1, len(token_list)):\n",
        "\t\tn_gram_sequence = token_list[:i+1]\n",
        "\t\tinput_sequences.append(n_gram_sequence)\n",
        "\n",
        "\n",
        "# pad sequences \n",
        "max_sequence_len = max([len(x) for x in input_sequences])\n",
        "input_sequences = np.array(pad_sequences(input_sequences, maxlen=max_sequence_len, padding='pre'))\n",
        "\n",
        "# create predictors and label\n",
        "predictors, label = input_sequences[:,:-1],input_sequences[:,-1]\n",
        "\n",
        "label = ku.to_categorical(label, num_classes=total_words)"
      ],
      "execution_count": 2,
      "outputs": [
        {
          "output_type": "stream",
          "text": [
            "--2019-08-18 13:20:41--  https://storage.googleapis.com/laurencemoroney-blog.appspot.com/sonnets.txt\n",
            "Resolving storage.googleapis.com (storage.googleapis.com)... 74.125.142.128, 2607:f8b0:400e:c05::80\n",
            "Connecting to storage.googleapis.com (storage.googleapis.com)|74.125.142.128|:443... connected.\n",
            "HTTP request sent, awaiting response... 200 OK\n",
            "Length: 93578 (91K) [text/plain]\n",
            "Saving to: ‘/tmp/sonnets.txt’\n",
            "\n",
            "\r/tmp/sonnets.txt      0%[                    ]       0  --.-KB/s               \r/tmp/sonnets.txt    100%[===================>]  91.38K  --.-KB/s    in 0.001s  \n",
            "\n",
            "2019-08-18 13:20:42 (132 MB/s) - ‘/tmp/sonnets.txt’ saved [93578/93578]\n",
            "\n"
          ],
          "name": "stdout"
        }
      ]
    },
    {
      "cell_type": "code",
      "metadata": {
        "id": "w9vH8Y59ajYL",
        "colab_type": "code",
        "colab": {
          "base_uri": "https://localhost:8080/",
          "height": 666
        },
        "outputId": "044ed2e4-056b-4d6b-a7ee-4e933ee10d71"
      },
      "source": [
        "model = Sequential()\n",
        "model.add(Embedding(total_words, 100, input_length=max_sequence_len-1))\n",
        "model.add(Bidirectional(LSTM(150, return_sequences = True)))\n",
        "model.add(Dropout(0.2))\n",
        "model.add(LSTM(100))\n",
        "model.add(Dense(total_words/2, activation='relu', kernel_regularizer=regularizers.l2(0.01)))\n",
        "model.add(Dense(total_words, activation='softmax'))\n",
        "model.compile(loss='categorical_crossentropy', optimizer='adam', metrics=['accuracy'])\n",
        "print(model.summary())\n"
      ],
      "execution_count": 3,
      "outputs": [
        {
          "output_type": "stream",
          "text": [
            "WARNING: Logging before flag parsing goes to stderr.\n",
            "W0818 13:20:43.265165 140190818613120 deprecation.py:506] From /usr/local/lib/python3.6/dist-packages/tensorflow/python/keras/initializers.py:119: calling RandomUniform.__init__ (from tensorflow.python.ops.init_ops) with dtype is deprecated and will be removed in a future version.\n",
            "Instructions for updating:\n",
            "Call initializer instance with the dtype argument instead of passing it to the constructor\n",
            "W0818 13:20:43.293488 140190818613120 deprecation.py:506] From /usr/local/lib/python3.6/dist-packages/tensorflow/python/ops/init_ops.py:1251: calling VarianceScaling.__init__ (from tensorflow.python.ops.init_ops) with dtype is deprecated and will be removed in a future version.\n",
            "Instructions for updating:\n",
            "Call initializer instance with the dtype argument instead of passing it to the constructor\n",
            "W0818 13:20:43.299859 140190818613120 deprecation.py:506] From /usr/local/lib/python3.6/dist-packages/tensorflow/python/ops/init_ops.py:97: calling GlorotUniform.__init__ (from tensorflow.python.ops.init_ops) with dtype is deprecated and will be removed in a future version.\n",
            "Instructions for updating:\n",
            "Call initializer instance with the dtype argument instead of passing it to the constructor\n",
            "W0818 13:20:43.303055 140190818613120 deprecation.py:506] From /usr/local/lib/python3.6/dist-packages/tensorflow/python/ops/init_ops.py:97: calling Orthogonal.__init__ (from tensorflow.python.ops.init_ops) with dtype is deprecated and will be removed in a future version.\n",
            "Instructions for updating:\n",
            "Call initializer instance with the dtype argument instead of passing it to the constructor\n",
            "W0818 13:20:43.306224 140190818613120 deprecation.py:506] From /usr/local/lib/python3.6/dist-packages/tensorflow/python/ops/init_ops.py:97: calling Zeros.__init__ (from tensorflow.python.ops.init_ops) with dtype is deprecated and will be removed in a future version.\n",
            "Instructions for updating:\n",
            "Call initializer instance with the dtype argument instead of passing it to the constructor\n"
          ],
          "name": "stderr"
        },
        {
          "output_type": "stream",
          "text": [
            "Model: \"sequential\"\n",
            "_________________________________________________________________\n",
            "Layer (type)                 Output Shape              Param #   \n",
            "=================================================================\n",
            "embedding (Embedding)        (None, 10, 100)           321100    \n",
            "_________________________________________________________________\n",
            "bidirectional (Bidirectional (None, 10, 300)           301200    \n",
            "_________________________________________________________________\n",
            "dropout (Dropout)            (None, 10, 300)           0         \n",
            "_________________________________________________________________\n",
            "lstm_1 (LSTM)                (None, 100)               160400    \n",
            "_________________________________________________________________\n",
            "dense (Dense)                (None, 1605)              162105    \n",
            "_________________________________________________________________\n",
            "dense_1 (Dense)              (None, 3211)              5156866   \n",
            "=================================================================\n",
            "Total params: 6,101,671\n",
            "Trainable params: 6,101,671\n",
            "Non-trainable params: 0\n",
            "_________________________________________________________________\n",
            "None\n"
          ],
          "name": "stdout"
        }
      ]
    },
    {
      "cell_type": "code",
      "metadata": {
        "id": "AIg2f1HBxqof",
        "colab_type": "code",
        "colab": {
          "base_uri": "https://localhost:8080/",
          "height": 1000
        },
        "outputId": "0038e570-e6be-482b-a3be-4688146310c5"
      },
      "source": [
        " history = model.fit(predictors, label, epochs=100, verbose=1)"
      ],
      "execution_count": 4,
      "outputs": [
        {
          "output_type": "stream",
          "text": [
            "W0818 13:20:44.327145 140190818613120 deprecation.py:323] From /usr/local/lib/python3.6/dist-packages/tensorflow/python/ops/math_grad.py:1250: add_dispatch_support.<locals>.wrapper (from tensorflow.python.ops.array_ops) is deprecated and will be removed in a future version.\n",
            "Instructions for updating:\n",
            "Use tf.where in 2.0, which has the same broadcast rule as np.where\n"
          ],
          "name": "stderr"
        },
        {
          "output_type": "stream",
          "text": [
            "Epoch 1/100\n",
            "15462/15462 [==============================] - 29s 2ms/sample - loss: 6.9047 - acc: 0.0217\n",
            "Epoch 2/100\n",
            "15462/15462 [==============================] - 27s 2ms/sample - loss: 6.4978 - acc: 0.0230\n",
            "Epoch 3/100\n",
            "15462/15462 [==============================] - 27s 2ms/sample - loss: 6.3761 - acc: 0.0272\n",
            "Epoch 4/100\n",
            "15462/15462 [==============================] - 27s 2ms/sample - loss: 6.2566 - acc: 0.0303\n",
            "Epoch 5/100\n",
            "15462/15462 [==============================] - 27s 2ms/sample - loss: 6.1728 - acc: 0.0357\n",
            "Epoch 6/100\n",
            "15462/15462 [==============================] - 26s 2ms/sample - loss: 6.0900 - acc: 0.0375\n",
            "Epoch 7/100\n",
            "15462/15462 [==============================] - 26s 2ms/sample - loss: 6.0115 - acc: 0.0402\n",
            "Epoch 8/100\n",
            "15462/15462 [==============================] - 26s 2ms/sample - loss: 5.9260 - acc: 0.0448\n",
            "Epoch 9/100\n",
            "15462/15462 [==============================] - 26s 2ms/sample - loss: 5.8312 - acc: 0.0505\n",
            "Epoch 10/100\n",
            "15462/15462 [==============================] - 26s 2ms/sample - loss: 5.7331 - acc: 0.0581\n",
            "Epoch 11/100\n",
            "15462/15462 [==============================] - 26s 2ms/sample - loss: 5.6283 - acc: 0.0621\n",
            "Epoch 12/100\n",
            "15462/15462 [==============================] - 26s 2ms/sample - loss: 5.5285 - acc: 0.0675\n",
            "Epoch 13/100\n",
            "15462/15462 [==============================] - 26s 2ms/sample - loss: 5.4311 - acc: 0.0756\n",
            "Epoch 14/100\n",
            "15462/15462 [==============================] - 26s 2ms/sample - loss: 5.3308 - acc: 0.0805\n",
            "Epoch 15/100\n",
            "15462/15462 [==============================] - 26s 2ms/sample - loss: 5.2298 - acc: 0.0891\n",
            "Epoch 16/100\n",
            "15462/15462 [==============================] - 26s 2ms/sample - loss: 5.1227 - acc: 0.0953\n",
            "Epoch 17/100\n",
            "15462/15462 [==============================] - 26s 2ms/sample - loss: 5.0197 - acc: 0.1034\n",
            "Epoch 18/100\n",
            "15462/15462 [==============================] - 26s 2ms/sample - loss: 4.9151 - acc: 0.1120\n",
            "Epoch 19/100\n",
            "15462/15462 [==============================] - 26s 2ms/sample - loss: 4.8097 - acc: 0.1219\n",
            "Epoch 20/100\n",
            "15462/15462 [==============================] - 26s 2ms/sample - loss: 4.6992 - acc: 0.1348\n",
            "Epoch 21/100\n",
            "15462/15462 [==============================] - 26s 2ms/sample - loss: 4.5942 - acc: 0.1451\n",
            "Epoch 22/100\n",
            "15462/15462 [==============================] - 26s 2ms/sample - loss: 4.4876 - acc: 0.1571\n",
            "Epoch 23/100\n",
            "15462/15462 [==============================] - 26s 2ms/sample - loss: 4.3866 - acc: 0.1670\n",
            "Epoch 24/100\n",
            "15462/15462 [==============================] - 26s 2ms/sample - loss: 4.2805 - acc: 0.1786\n",
            "Epoch 25/100\n",
            "15462/15462 [==============================] - 25s 2ms/sample - loss: 4.1808 - acc: 0.1909\n",
            "Epoch 26/100\n",
            "15462/15462 [==============================] - 25s 2ms/sample - loss: 4.0802 - acc: 0.2042\n",
            "Epoch 27/100\n",
            "15462/15462 [==============================] - 26s 2ms/sample - loss: 3.9733 - acc: 0.2211\n",
            "Epoch 28/100\n",
            "15462/15462 [==============================] - 25s 2ms/sample - loss: 3.8753 - acc: 0.2321\n",
            "Epoch 29/100\n",
            "15462/15462 [==============================] - 25s 2ms/sample - loss: 3.7759 - acc: 0.2504\n",
            "Epoch 30/100\n",
            "15462/15462 [==============================] - 25s 2ms/sample - loss: 3.6821 - acc: 0.2681\n",
            "Epoch 31/100\n",
            "15462/15462 [==============================] - 25s 2ms/sample - loss: 3.5884 - acc: 0.2872\n",
            "Epoch 32/100\n",
            "15462/15462 [==============================] - 25s 2ms/sample - loss: 3.4919 - acc: 0.3062\n",
            "Epoch 33/100\n",
            "15462/15462 [==============================] - 25s 2ms/sample - loss: 3.3896 - acc: 0.3293\n",
            "Epoch 34/100\n",
            "15462/15462 [==============================] - 25s 2ms/sample - loss: 3.3156 - acc: 0.3406\n",
            "Epoch 35/100\n",
            "15462/15462 [==============================] - 25s 2ms/sample - loss: 3.2329 - acc: 0.3599\n",
            "Epoch 36/100\n",
            "15462/15462 [==============================] - 25s 2ms/sample - loss: 3.1496 - acc: 0.3814\n",
            "Epoch 37/100\n",
            "15462/15462 [==============================] - 25s 2ms/sample - loss: 3.0755 - acc: 0.3955\n",
            "Epoch 38/100\n",
            "15462/15462 [==============================] - 25s 2ms/sample - loss: 2.9964 - acc: 0.4149\n",
            "Epoch 39/100\n",
            "15462/15462 [==============================] - 25s 2ms/sample - loss: 2.9137 - acc: 0.4321\n",
            "Epoch 40/100\n",
            "15462/15462 [==============================] - 25s 2ms/sample - loss: 2.8373 - acc: 0.4518\n",
            "Epoch 41/100\n",
            "15462/15462 [==============================] - 25s 2ms/sample - loss: 2.7668 - acc: 0.4644\n",
            "Epoch 42/100\n",
            "15462/15462 [==============================] - 25s 2ms/sample - loss: 2.7159 - acc: 0.4786\n",
            "Epoch 43/100\n",
            "15462/15462 [==============================] - 25s 2ms/sample - loss: 2.6357 - acc: 0.5002\n",
            "Epoch 44/100\n",
            "15462/15462 [==============================] - 25s 2ms/sample - loss: 2.5960 - acc: 0.5072\n",
            "Epoch 45/100\n",
            "15462/15462 [==============================] - 25s 2ms/sample - loss: 2.5303 - acc: 0.5226\n",
            "Epoch 46/100\n",
            "15462/15462 [==============================] - 25s 2ms/sample - loss: 2.4685 - acc: 0.5354\n",
            "Epoch 47/100\n",
            "15462/15462 [==============================] - 25s 2ms/sample - loss: 2.4089 - acc: 0.5496\n",
            "Epoch 48/100\n",
            "15462/15462 [==============================] - 25s 2ms/sample - loss: 2.3697 - acc: 0.5641\n",
            "Epoch 49/100\n",
            "15462/15462 [==============================] - 25s 2ms/sample - loss: 2.3125 - acc: 0.5733\n",
            "Epoch 50/100\n",
            "15462/15462 [==============================] - 25s 2ms/sample - loss: 2.2740 - acc: 0.5820\n",
            "Epoch 51/100\n",
            "15462/15462 [==============================] - 25s 2ms/sample - loss: 2.2330 - acc: 0.5882\n",
            "Epoch 52/100\n",
            "15462/15462 [==============================] - 25s 2ms/sample - loss: 2.1661 - acc: 0.6020\n",
            "Epoch 53/100\n",
            "15462/15462 [==============================] - 25s 2ms/sample - loss: 2.1329 - acc: 0.6110\n",
            "Epoch 54/100\n",
            "15462/15462 [==============================] - 25s 2ms/sample - loss: 2.0906 - acc: 0.6207\n",
            "Epoch 55/100\n",
            "15462/15462 [==============================] - 25s 2ms/sample - loss: 2.0435 - acc: 0.6321\n",
            "Epoch 56/100\n",
            "15462/15462 [==============================] - 25s 2ms/sample - loss: 2.0045 - acc: 0.6412\n",
            "Epoch 57/100\n",
            "15462/15462 [==============================] - 25s 2ms/sample - loss: 1.9630 - acc: 0.6514\n",
            "Epoch 58/100\n",
            "15462/15462 [==============================] - 25s 2ms/sample - loss: 1.9378 - acc: 0.6528\n",
            "Epoch 59/100\n",
            "15462/15462 [==============================] - 25s 2ms/sample - loss: 1.9046 - acc: 0.6638\n",
            "Epoch 60/100\n",
            "15462/15462 [==============================] - 25s 2ms/sample - loss: 1.8724 - acc: 0.6656\n",
            "Epoch 61/100\n",
            "15462/15462 [==============================] - 25s 2ms/sample - loss: 1.8347 - acc: 0.6765\n",
            "Epoch 62/100\n",
            "15462/15462 [==============================] - 25s 2ms/sample - loss: 1.8067 - acc: 0.6812\n",
            "Epoch 63/100\n",
            "15462/15462 [==============================] - 25s 2ms/sample - loss: 1.7649 - acc: 0.6899\n",
            "Epoch 64/100\n",
            "15462/15462 [==============================] - 25s 2ms/sample - loss: 1.7369 - acc: 0.6969\n",
            "Epoch 65/100\n",
            "15462/15462 [==============================] - 25s 2ms/sample - loss: 1.7080 - acc: 0.7028\n",
            "Epoch 66/100\n",
            "15462/15462 [==============================] - 25s 2ms/sample - loss: 1.6845 - acc: 0.7079\n",
            "Epoch 67/100\n",
            "15462/15462 [==============================] - 25s 2ms/sample - loss: 1.6508 - acc: 0.7125\n",
            "Epoch 68/100\n",
            "15462/15462 [==============================] - 25s 2ms/sample - loss: 1.6258 - acc: 0.7169\n",
            "Epoch 69/100\n",
            "15462/15462 [==============================] - 25s 2ms/sample - loss: 1.6020 - acc: 0.7227\n",
            "Epoch 70/100\n",
            "15462/15462 [==============================] - 25s 2ms/sample - loss: 1.5837 - acc: 0.7254\n",
            "Epoch 71/100\n",
            "15462/15462 [==============================] - 25s 2ms/sample - loss: 1.5631 - acc: 0.7324\n",
            "Epoch 72/100\n",
            "15462/15462 [==============================] - 25s 2ms/sample - loss: 1.5375 - acc: 0.7365\n",
            "Epoch 73/100\n",
            "15462/15462 [==============================] - 25s 2ms/sample - loss: 1.5208 - acc: 0.7387\n",
            "Epoch 74/100\n",
            "15462/15462 [==============================] - 25s 2ms/sample - loss: 1.4777 - acc: 0.7488\n",
            "Epoch 75/100\n",
            "15462/15462 [==============================] - 25s 2ms/sample - loss: 1.4772 - acc: 0.7471\n",
            "Epoch 76/100\n",
            "15462/15462 [==============================] - 25s 2ms/sample - loss: 1.4878 - acc: 0.7440\n",
            "Epoch 77/100\n",
            "15462/15462 [==============================] - 25s 2ms/sample - loss: 1.4311 - acc: 0.7548\n",
            "Epoch 78/100\n",
            "15462/15462 [==============================] - 25s 2ms/sample - loss: 1.3986 - acc: 0.7666\n",
            "Epoch 79/100\n",
            "15462/15462 [==============================] - 25s 2ms/sample - loss: 1.3950 - acc: 0.7649\n",
            "Epoch 80/100\n",
            "15462/15462 [==============================] - 25s 2ms/sample - loss: 1.3838 - acc: 0.7656\n",
            "Epoch 81/100\n",
            "15462/15462 [==============================] - 25s 2ms/sample - loss: 1.3664 - acc: 0.7663\n",
            "Epoch 82/100\n",
            "15462/15462 [==============================] - 25s 2ms/sample - loss: 1.3459 - acc: 0.7712\n",
            "Epoch 83/100\n",
            "15462/15462 [==============================] - 25s 2ms/sample - loss: 1.3303 - acc: 0.7716\n",
            "Epoch 84/100\n",
            "15462/15462 [==============================] - 25s 2ms/sample - loss: 1.3204 - acc: 0.7739\n",
            "Epoch 85/100\n",
            "15462/15462 [==============================] - 25s 2ms/sample - loss: 1.3181 - acc: 0.7745\n",
            "Epoch 86/100\n",
            "15462/15462 [==============================] - 25s 2ms/sample - loss: 1.3014 - acc: 0.7760\n",
            "Epoch 87/100\n",
            "15462/15462 [==============================] - 25s 2ms/sample - loss: 1.2817 - acc: 0.7822\n",
            "Epoch 88/100\n",
            "15462/15462 [==============================] - 25s 2ms/sample - loss: 1.2706 - acc: 0.7819\n",
            "Epoch 89/100\n",
            "15462/15462 [==============================] - 25s 2ms/sample - loss: 1.2534 - acc: 0.7881\n",
            "Epoch 90/100\n",
            "15462/15462 [==============================] - 25s 2ms/sample - loss: 1.2391 - acc: 0.7889\n",
            "Epoch 91/100\n",
            "15462/15462 [==============================] - 25s 2ms/sample - loss: 1.2189 - acc: 0.7921\n",
            "Epoch 92/100\n",
            "15462/15462 [==============================] - 25s 2ms/sample - loss: 1.2169 - acc: 0.7901\n",
            "Epoch 93/100\n",
            "15462/15462 [==============================] - 25s 2ms/sample - loss: 1.2081 - acc: 0.7917\n",
            "Epoch 94/100\n",
            "15462/15462 [==============================] - 25s 2ms/sample - loss: 1.1901 - acc: 0.7963\n",
            "Epoch 95/100\n",
            "15462/15462 [==============================] - 25s 2ms/sample - loss: 1.1840 - acc: 0.7976\n",
            "Epoch 96/100\n",
            "15462/15462 [==============================] - 25s 2ms/sample - loss: 1.1891 - acc: 0.7953\n",
            "Epoch 97/100\n",
            "15462/15462 [==============================] - 25s 2ms/sample - loss: 1.1700 - acc: 0.7976\n",
            "Epoch 98/100\n",
            "15462/15462 [==============================] - 25s 2ms/sample - loss: 1.1592 - acc: 0.8008\n",
            "Epoch 99/100\n",
            "15462/15462 [==============================] - 25s 2ms/sample - loss: 1.1521 - acc: 0.8013\n",
            "Epoch 100/100\n",
            "15462/15462 [==============================] - 25s 2ms/sample - loss: 1.1259 - acc: 0.8101\n"
          ],
          "name": "stdout"
        }
      ]
    },
    {
      "cell_type": "code",
      "metadata": {
        "id": "1fXTEO3GJ282",
        "colab_type": "code",
        "colab": {
          "base_uri": "https://localhost:8080/",
          "height": 545
        },
        "outputId": "23e77662-05b4-4260-e106-63180f197bb1"
      },
      "source": [
        "import matplotlib.pyplot as plt\n",
        "acc = history.history['acc']\n",
        "loss = history.history['loss']\n",
        "\n",
        "epochs = range(len(acc))\n",
        "\n",
        "plt.plot(epochs, acc, 'b', label='Training accuracy')\n",
        "plt.title('Training accuracy')\n",
        "\n",
        "plt.figure()\n",
        "\n",
        "plt.plot(epochs, loss, 'b', label='Training Loss')\n",
        "plt.title('Training loss')\n",
        "plt.legend()\n",
        "\n",
        "plt.show()"
      ],
      "execution_count": 5,
      "outputs": [
        {
          "output_type": "display_data",
          "data": {
            "image/png": "[encoded data removed]",
            "text/plain": [
              "<Figure size 432x288 with 1 Axes>"
            ]
          },
          "metadata": {
            "tags": []
          }
        },
        {
          "output_type": "display_data",
          "data": {
            "image/png": "[encoded data removed]",
            "text/plain": [
              "<Figure size 432x288 with 1 Axes>"
            ]
          },
          "metadata": {
            "tags": []
          }
        }
      ]
    },
    {
      "cell_type": "code",
      "metadata": {
        "id": "6Vc6PHgxa6Hm",
        "colab_type": "code",
        "colab": {
          "base_uri": "https://localhost:8080/",
          "height": 54
        },
        "outputId": "3debf055-a72b-4e88-d05f-62b14dd6b9b9"
      },
      "source": [
        "seed_text = \"Help me Obi Wan Kenobi, you're my only hope\"\n",
        "next_words = 100\n",
        "  \n",
        "for _ in range(next_words):\n",
        "\ttoken_list = tokenizer.texts_to_sequences([seed_text])[0]\n",
        "\ttoken_list = pad_sequences([token_list], maxlen=max_sequence_len-1, padding='pre')\n",
        "\tpredicted = model.predict_classes(token_list, verbose=0)\n",
        "\toutput_word = \"\"\n",
        "\tfor word, index in tokenizer.word_index.items():\n",
        "\t\tif index == predicted:\n",
        "\t\t\toutput_word = word\n",
        "\t\t\tbreak\n",
        "\tseed_text += \" \" + output_word\n",
        "print(seed_text)"
      ],
      "execution_count": 6,
      "outputs": [
        {
          "output_type": "stream",
          "text": [
            "Help me Obi Wan Kenobi, you're my only hope be your sweet respect sheds sheds behind a several plot prove bear brow brow pride light staineth grow bearing days hearted prove live ' in kind ' kind wide rhyme new lips of 'will ' by to ' by shown brought to light wind light hour grief days did despise grow in days inhearse expired bearing ' die aside bearing brow blot me prove memory report grow defaced fault will rare rare grow days live confounds her deeds of thee lend them ' with pleasure ye alone did dwell away ' on him well book dead rare blot thence some\n"
          ],
          "name": "stdout"
        }
      ]
    }
  ]
}