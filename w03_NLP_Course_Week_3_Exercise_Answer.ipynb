{
  "nbformat": 4,
  "nbformat_minor": 0,
  "metadata": {
    "colab": {
      "name": "w03: NLP Course - Week 3 Exercise Answer.ipynb",
      "version": "0.3.2",
      "provenance": [],
      "collapsed_sections": [],
      "include_colab_link": true
    },
    "kernelspec": {
      "name": "python3",
      "display_name": "Python 3"
    },
    "accelerator": "GPU"
  },
  "cells": [
    {
      "cell_type": "markdown",
      "metadata": {
        "id": "view-in-github",
        "colab_type": "text"
      },
      "source": [
        "<a href=\"https://colab.research.google.com/github/denpetrov/01_03_natural-language-processing-tensorflow/blob/master/w03_NLP_Course_Week_3_Exercise_Answer.ipynb\" target=\"_parent\"><img src=\"https://colab.research.google.com/assets/colab-badge.svg\" alt=\"Open In Colab\"/></a>"
      ]
    },
    {
      "cell_type": "code",
      "metadata": {
        "id": "hmA6EzkQJ5jt",
        "colab_type": "code",
        "colab": {}
      },
      "source": [
        "import json\n",
        "import tensorflow as tf\n",
        "import csv\n",
        "import random\n",
        "import numpy as np\n",
        "\n",
        "from tensorflow.keras.preprocessing.text import Tokenizer\n",
        "from tensorflow.keras.preprocessing.sequence import pad_sequences\n",
        "from tensorflow.keras.utils import to_categorical\n",
        "from tensorflow.keras import regularizers\n",
        "\n",
        "\n",
        "embedding_dim = 100\n",
        "max_length = 16\n",
        "trunc_type='post'\n",
        "padding_type='post'\n",
        "oov_tok = \"<OOV>\"\n",
        "training_size=160000\n",
        "test_portion=.1\n",
        "\n",
        "corpus = []\n"
      ],
      "execution_count": 0,
      "outputs": []
    },
    {
      "cell_type": "code",
      "metadata": {
        "id": "bM0l_dORKqE0",
        "colab_type": "code",
        "outputId": "8393ff43-0d5c-4323-f878-66c62211d15f",
        "colab": {
          "base_uri": "https://localhost:8080/",
          "height": 204
        }
      },
      "source": [
        "\n",
        "# Note that I cleaned the Stanford dataset to remove LATIN1 encoding to make it easier for Python CSV reader\n",
        "# You can do that yourself with:\n",
        "# iconv -f LATIN1 -t UTF8 training.1600000.processed.noemoticon.csv -o training_cleaned.csv\n",
        "# I then hosted it on my site to make it easier to use in this notebook\n",
        "\n",
        "!wget --no-check-certificate \\\n",
        "    https://storage.googleapis.com/laurencemoroney-blog.appspot.com/training_cleaned.csv \\\n",
        "    -O /tmp/training_cleaned.csv\n",
        "\n",
        "num_sentences = 0\n",
        "\n",
        "with open(\"/tmp/training_cleaned.csv\") as csvfile:\n",
        "    reader = csv.reader(csvfile, delimiter=',')\n",
        "    for row in reader:\n",
        "        list_item=[]\n",
        "        list_item.append(row[5])\n",
        "        this_label=row[0]\n",
        "        if this_label=='0':\n",
        "            list_item.append(0)\n",
        "        else:\n",
        "            list_item.append(1)\n",
        "        num_sentences = num_sentences + 1\n",
        "        corpus.append(list_item)\n",
        "\n",
        "\n"
      ],
      "execution_count": 2,
      "outputs": [
        {
          "output_type": "stream",
          "text": [
            "--2019-08-15 19:32:27--  https://storage.googleapis.com/laurencemoroney-blog.appspot.com/training_cleaned.csv\n",
            "Resolving storage.googleapis.com (storage.googleapis.com)... 172.217.31.176, 2404:6800:4004:80b::2010\n",
            "Connecting to storage.googleapis.com (storage.googleapis.com)|172.217.31.176|:443... connected.\n",
            "HTTP request sent, awaiting response... 200 OK\n",
            "Length: 238942690 (228M) [application/octet-stream]\n",
            "Saving to: ‘/tmp/training_cleaned.csv’\n",
            "\n",
            "/tmp/training_clean 100%[===================>] 227.87M  80.0MB/s    in 2.8s    \n",
            "\n",
            "2019-08-15 19:32:31 (80.0 MB/s) - ‘/tmp/training_cleaned.csv’ saved [238942690/238942690]\n",
            "\n"
          ],
          "name": "stdout"
        }
      ]
    },
    {
      "cell_type": "code",
      "metadata": {
        "id": "3kxblBUjEUX-",
        "colab_type": "code",
        "outputId": "c896620d-936b-4286-e241-ca84034bfb45",
        "colab": {
          "base_uri": "https://localhost:8080/",
          "height": 68
        }
      },
      "source": [
        "print(num_sentences)\n",
        "print(len(corpus))\n",
        "print(corpus[1])\n",
        "\n",
        "# Expected Output:\n",
        "# 1600000\n",
        "# 1600000\n",
        "# [\"is upset that he can't update his Facebook by texting it... and might cry as a result  School today also. Blah!\", 0]"
      ],
      "execution_count": 3,
      "outputs": [
        {
          "output_type": "stream",
          "text": [
            "1600000\n",
            "1600000\n",
            "[\"is upset that he can't update his Facebook by texting it... and might cry as a result  School today also. Blah!\", 0]\n"
          ],
          "name": "stdout"
        }
      ]
    },
    {
      "cell_type": "code",
      "metadata": {
        "id": "ohOGz24lsNAD",
        "colab_type": "code",
        "colab": {}
      },
      "source": [
        "sentences=[]\n",
        "labels=[]\n",
        "random.shuffle(corpus)\n",
        "for x in range(training_size):\n",
        "    sentences.append(corpus[x][0])\n",
        "    labels.append(corpus[x][1])\n",
        "\n",
        "\n",
        "tokenizer = Tokenizer()\n",
        "tokenizer.fit_on_texts(sentences)\n",
        "\n",
        "word_index = tokenizer.word_index\n",
        "vocab_size=len(word_index)\n",
        "\n",
        "sequences = tokenizer.texts_to_sequences(sentences)\n",
        "padded = pad_sequences(sequences, maxlen=max_length, padding=padding_type, truncating=trunc_type)\n",
        "\n",
        "split = int(test_portion * training_size)\n",
        "\n",
        "test_sequences = padded[0:split]\n",
        "training_sequences = padded[split:training_size]\n",
        "test_labels = labels[0:split]\n",
        "training_labels = labels[split:training_size]"
      ],
      "execution_count": 0,
      "outputs": []
    },
    {
      "cell_type": "code",
      "metadata": {
        "id": "gIrtRem1En3N",
        "colab_type": "code",
        "outputId": "1a464ada-0688-4606-c12d-ce1e603ecfb7",
        "colab": {
          "base_uri": "https://localhost:8080/",
          "height": 51
        }
      },
      "source": [
        "print(vocab_size)\n",
        "print(word_index['i'])\n",
        "# Expected Output\n",
        "# 138858\n",
        "# 1"
      ],
      "execution_count": 5,
      "outputs": [
        {
          "output_type": "stream",
          "text": [
            "138385\n",
            "1\n"
          ],
          "name": "stdout"
        }
      ]
    },
    {
      "cell_type": "code",
      "metadata": {
        "id": "C1zdgJkusRh0",
        "colab_type": "code",
        "outputId": "ce9f9b23-de1e-4723-816b-f6826e25ef28",
        "colab": {
          "base_uri": "https://localhost:8080/",
          "height": 204
        }
      },
      "source": [
        "# Note this is the 100 dimension version of GloVe from Stanford\n",
        "# I unzipped and hosted it on my site to make this notebook easier\n",
        "!wget --no-check-certificate \\\n",
        "    https://storage.googleapis.com/laurencemoroney-blog.appspot.com/glove.6B.100d.txt \\\n",
        "    -O /tmp/glove.6B.100d.txt\n",
        "embeddings_index = {};\n",
        "with open('/tmp/glove.6B.100d.txt') as f:\n",
        "    for line in f:\n",
        "        values = line.split();\n",
        "        word = values[0];\n",
        "        coefs = np.asarray(values[1:], dtype='float32');\n",
        "        embeddings_index[word] = coefs;\n",
        "\n",
        "embeddings_matrix = np.zeros((vocab_size+1, embedding_dim));\n",
        "for word, i in word_index.items():\n",
        "    embedding_vector = embeddings_index.get(word);\n",
        "    if embedding_vector is not None:\n",
        "        embeddings_matrix[i] = embedding_vector;"
      ],
      "execution_count": 6,
      "outputs": [
        {
          "output_type": "stream",
          "text": [
            "--2019-08-15 19:32:48--  https://storage.googleapis.com/laurencemoroney-blog.appspot.com/glove.6B.100d.txt\n",
            "Resolving storage.googleapis.com (storage.googleapis.com)... 172.217.25.112, 2404:6800:4004:80b::2010\n",
            "Connecting to storage.googleapis.com (storage.googleapis.com)|172.217.25.112|:443... connected.\n",
            "HTTP request sent, awaiting response... 200 OK\n",
            "Length: 347116733 (331M) [text/plain]\n",
            "Saving to: ‘/tmp/glove.6B.100d.txt’\n",
            "\n",
            "/tmp/glove.6B.100d. 100%[===================>] 331.04M  74.0MB/s    in 4.5s    \n",
            "\n",
            "2019-08-15 19:32:53 (74.0 MB/s) - ‘/tmp/glove.6B.100d.txt’ saved [347116733/347116733]\n",
            "\n"
          ],
          "name": "stdout"
        }
      ]
    },
    {
      "cell_type": "code",
      "metadata": {
        "id": "71NLk_lpFLNt",
        "colab_type": "code",
        "outputId": "6f8b8e6f-6989-479d-fd25-4c5358bfbaff",
        "colab": {
          "base_uri": "https://localhost:8080/",
          "height": 34
        }
      },
      "source": [
        "print(len(embeddings_matrix))\n",
        "# Expected Output\n",
        "# 138859"
      ],
      "execution_count": 7,
      "outputs": [
        {
          "output_type": "stream",
          "text": [
            "138386\n"
          ],
          "name": "stdout"
        }
      ]
    },
    {
      "cell_type": "code",
      "metadata": {
        "colab_type": "code",
        "id": "iKKvbuEBOGFz",
        "colab": {
          "base_uri": "https://localhost:8080/",
          "height": 1000
        },
        "outputId": "8c8f3ecb-46eb-46ad-eaca-0e5d8cc12fe8"
      },
      "source": [
        "model = tf.keras.Sequential([\n",
        "    tf.keras.layers.Embedding(vocab_size+1, embedding_dim, input_length=max_length, weights=[embeddings_matrix], trainable=False),\n",
        "    tf.keras.layers.Dropout(0.2),\n",
        "    tf.keras.layers.Conv1D(64, 5, activation='relu'),\n",
        "    tf.keras.layers.MaxPooling1D(pool_size=4),\n",
        "    tf.keras.layers.LSTM(64),\n",
        "    tf.keras.layers.Dense(1, activation='sigmoid')\n",
        "])\n",
        "model.compile(loss='binary_crossentropy',optimizer='adam',metrics=['accuracy'])\n",
        "model.summary()\n",
        "\n",
        "num_epochs = 50\n",
        "history = model.fit(training_sequences, training_labels, epochs=num_epochs, validation_data=(test_sequences, test_labels), verbose=2)\n",
        "\n",
        "print(\"Training Complete\")\n"
      ],
      "execution_count": 8,
      "outputs": [
        {
          "output_type": "stream",
          "text": [
            "WARNING: Logging before flag parsing goes to stderr.\n",
            "W0815 19:33:04.075666 140573448845184 deprecation.py:506] From /usr/local/lib/python3.6/dist-packages/tensorflow/python/keras/initializers.py:119: calling RandomUniform.__init__ (from tensorflow.python.ops.init_ops) with dtype is deprecated and will be removed in a future version.\n",
            "Instructions for updating:\n",
            "Call initializer instance with the dtype argument instead of passing it to the constructor\n",
            "W0815 19:33:04.079859 140573448845184 deprecation.py:506] From /usr/local/lib/python3.6/dist-packages/tensorflow/python/ops/init_ops.py:1251: calling VarianceScaling.__init__ (from tensorflow.python.ops.init_ops) with dtype is deprecated and will be removed in a future version.\n",
            "Instructions for updating:\n",
            "Call initializer instance with the dtype argument instead of passing it to the constructor\n",
            "W0815 19:33:07.269739 140573448845184 deprecation.py:323] From /usr/local/lib/python3.6/dist-packages/tensorflow/python/ops/nn_impl.py:180: add_dispatch_support.<locals>.wrapper (from tensorflow.python.ops.array_ops) is deprecated and will be removed in a future version.\n",
            "Instructions for updating:\n",
            "Use tf.where in 2.0, which has the same broadcast rule as np.where\n"
          ],
          "name": "stderr"
        },
        {
          "output_type": "stream",
          "text": [
            "Model: \"sequential\"\n",
            "_________________________________________________________________\n",
            "Layer (type)                 Output Shape              Param #   \n",
            "=================================================================\n",
            "embedding (Embedding)        (None, 16, 100)           13838600  \n",
            "_________________________________________________________________\n",
            "dropout (Dropout)            (None, 16, 100)           0         \n",
            "_________________________________________________________________\n",
            "conv1d (Conv1D)              (None, 12, 64)            32064     \n",
            "_________________________________________________________________\n",
            "max_pooling1d (MaxPooling1D) (None, 3, 64)             0         \n",
            "_________________________________________________________________\n",
            "lstm (LSTM)                  (None, 64)                33024     \n",
            "_________________________________________________________________\n",
            "dense (Dense)                (None, 1)                 65        \n",
            "=================================================================\n",
            "Total params: 13,903,753\n",
            "Trainable params: 65,153\n",
            "Non-trainable params: 13,838,600\n",
            "_________________________________________________________________\n",
            "Train on 144000 samples, validate on 16000 samples\n",
            "Epoch 1/50\n",
            "144000/144000 - 43s - loss: 0.5689 - acc: 0.6985 - val_loss: 0.5271 - val_acc: 0.7344\n",
            "Epoch 2/50\n",
            "144000/144000 - 39s - loss: 0.5278 - acc: 0.7321 - val_loss: 0.5116 - val_acc: 0.7445\n",
            "Epoch 3/50\n",
            "144000/144000 - 39s - loss: 0.5098 - acc: 0.7443 - val_loss: 0.5022 - val_acc: 0.7487\n",
            "Epoch 4/50\n",
            "144000/144000 - 39s - loss: 0.4983 - acc: 0.7531 - val_loss: 0.5014 - val_acc: 0.7526\n",
            "Epoch 5/50\n",
            "144000/144000 - 38s - loss: 0.4903 - acc: 0.7580 - val_loss: 0.4980 - val_acc: 0.7523\n",
            "Epoch 6/50\n",
            "144000/144000 - 38s - loss: 0.4821 - acc: 0.7639 - val_loss: 0.5009 - val_acc: 0.7571\n",
            "Epoch 7/50\n",
            "144000/144000 - 39s - loss: 0.4760 - acc: 0.7672 - val_loss: 0.5012 - val_acc: 0.7539\n",
            "Epoch 8/50\n",
            "144000/144000 - 38s - loss: 0.4719 - acc: 0.7697 - val_loss: 0.4953 - val_acc: 0.7570\n",
            "Epoch 9/50\n",
            "144000/144000 - 39s - loss: 0.4678 - acc: 0.7731 - val_loss: 0.4993 - val_acc: 0.7568\n",
            "Epoch 10/50\n",
            "144000/144000 - 39s - loss: 0.4632 - acc: 0.7757 - val_loss: 0.5034 - val_acc: 0.7563\n",
            "Epoch 11/50\n",
            "144000/144000 - 38s - loss: 0.4599 - acc: 0.7777 - val_loss: 0.5007 - val_acc: 0.7593\n",
            "Epoch 12/50\n",
            "144000/144000 - 39s - loss: 0.4571 - acc: 0.7791 - val_loss: 0.5023 - val_acc: 0.7539\n",
            "Epoch 13/50\n",
            "144000/144000 - 38s - loss: 0.4550 - acc: 0.7811 - val_loss: 0.5049 - val_acc: 0.7529\n",
            "Epoch 14/50\n",
            "144000/144000 - 38s - loss: 0.4517 - acc: 0.7817 - val_loss: 0.5051 - val_acc: 0.7575\n",
            "Epoch 15/50\n",
            "144000/144000 - 38s - loss: 0.4503 - acc: 0.7827 - val_loss: 0.5057 - val_acc: 0.7556\n",
            "Epoch 16/50\n",
            "144000/144000 - 38s - loss: 0.4477 - acc: 0.7840 - val_loss: 0.5101 - val_acc: 0.7504\n",
            "Epoch 17/50\n",
            "144000/144000 - 39s - loss: 0.4485 - acc: 0.7846 - val_loss: 0.5129 - val_acc: 0.7535\n",
            "Epoch 18/50\n",
            "144000/144000 - 38s - loss: 0.4456 - acc: 0.7859 - val_loss: 0.5093 - val_acc: 0.7554\n",
            "Epoch 19/50\n",
            "144000/144000 - 38s - loss: 0.4438 - acc: 0.7869 - val_loss: 0.5095 - val_acc: 0.7495\n",
            "Epoch 20/50\n",
            "144000/144000 - 38s - loss: 0.4440 - acc: 0.7863 - val_loss: 0.5105 - val_acc: 0.7538\n",
            "Epoch 21/50\n",
            "144000/144000 - 38s - loss: 0.4419 - acc: 0.7880 - val_loss: 0.5152 - val_acc: 0.7520\n",
            "Epoch 22/50\n",
            "144000/144000 - 38s - loss: 0.4422 - acc: 0.7876 - val_loss: 0.5107 - val_acc: 0.7522\n",
            "Epoch 23/50\n",
            "144000/144000 - 39s - loss: 0.4406 - acc: 0.7879 - val_loss: 0.5111 - val_acc: 0.7507\n",
            "Epoch 24/50\n",
            "144000/144000 - 38s - loss: 0.4385 - acc: 0.7901 - val_loss: 0.5139 - val_acc: 0.7561\n",
            "Epoch 25/50\n",
            "144000/144000 - 38s - loss: 0.4381 - acc: 0.7906 - val_loss: 0.5144 - val_acc: 0.7469\n",
            "Epoch 26/50\n",
            "144000/144000 - 38s - loss: 0.4369 - acc: 0.7911 - val_loss: 0.5125 - val_acc: 0.7526\n",
            "Epoch 27/50\n",
            "144000/144000 - 38s - loss: 0.4364 - acc: 0.7920 - val_loss: 0.5201 - val_acc: 0.7477\n",
            "Epoch 28/50\n",
            "144000/144000 - 38s - loss: 0.4342 - acc: 0.7925 - val_loss: 0.5206 - val_acc: 0.7501\n",
            "Epoch 29/50\n",
            "144000/144000 - 38s - loss: 0.4352 - acc: 0.7915 - val_loss: 0.5149 - val_acc: 0.7516\n",
            "Epoch 30/50\n",
            "144000/144000 - 39s - loss: 0.4346 - acc: 0.7921 - val_loss: 0.5139 - val_acc: 0.7501\n",
            "Epoch 31/50\n",
            "144000/144000 - 39s - loss: 0.4329 - acc: 0.7943 - val_loss: 0.5165 - val_acc: 0.7492\n",
            "Epoch 32/50\n",
            "144000/144000 - 38s - loss: 0.4323 - acc: 0.7943 - val_loss: 0.5229 - val_acc: 0.7496\n",
            "Epoch 33/50\n",
            "144000/144000 - 38s - loss: 0.4322 - acc: 0.7931 - val_loss: 0.5152 - val_acc: 0.7509\n",
            "Epoch 34/50\n",
            "144000/144000 - 38s - loss: 0.4328 - acc: 0.7934 - val_loss: 0.5175 - val_acc: 0.7452\n",
            "Epoch 35/50\n",
            "144000/144000 - 38s - loss: 0.4334 - acc: 0.7922 - val_loss: 0.5204 - val_acc: 0.7481\n",
            "Epoch 36/50\n",
            "144000/144000 - 38s - loss: 0.4323 - acc: 0.7934 - val_loss: 0.5194 - val_acc: 0.7483\n",
            "Epoch 37/50\n",
            "144000/144000 - 38s - loss: 0.4317 - acc: 0.7944 - val_loss: 0.5176 - val_acc: 0.7491\n",
            "Epoch 38/50\n",
            "144000/144000 - 38s - loss: 0.4317 - acc: 0.7936 - val_loss: 0.5159 - val_acc: 0.7509\n",
            "Epoch 39/50\n",
            "144000/144000 - 38s - loss: 0.4311 - acc: 0.7943 - val_loss: 0.5153 - val_acc: 0.7477\n",
            "Epoch 40/50\n",
            "144000/144000 - 38s - loss: 0.4314 - acc: 0.7943 - val_loss: 0.5193 - val_acc: 0.7506\n",
            "Epoch 41/50\n",
            "144000/144000 - 38s - loss: 0.4310 - acc: 0.7939 - val_loss: 0.5164 - val_acc: 0.7460\n",
            "Epoch 42/50\n",
            "144000/144000 - 39s - loss: 0.4306 - acc: 0.7942 - val_loss: 0.5167 - val_acc: 0.7502\n",
            "Epoch 43/50\n",
            "144000/144000 - 39s - loss: 0.4303 - acc: 0.7954 - val_loss: 0.5166 - val_acc: 0.7495\n",
            "Epoch 44/50\n",
            "144000/144000 - 38s - loss: 0.4300 - acc: 0.7940 - val_loss: 0.5218 - val_acc: 0.7501\n",
            "Epoch 45/50\n",
            "144000/144000 - 39s - loss: 0.4309 - acc: 0.7939 - val_loss: 0.5133 - val_acc: 0.7454\n",
            "Epoch 46/50\n",
            "144000/144000 - 39s - loss: 0.4286 - acc: 0.7963 - val_loss: 0.5155 - val_acc: 0.7511\n",
            "Epoch 47/50\n",
            "144000/144000 - 40s - loss: 0.4301 - acc: 0.7955 - val_loss: 0.5180 - val_acc: 0.7481\n",
            "Epoch 48/50\n",
            "144000/144000 - 39s - loss: 0.4306 - acc: 0.7953 - val_loss: 0.5207 - val_acc: 0.7461\n",
            "Epoch 49/50\n",
            "144000/144000 - 40s - loss: 0.4288 - acc: 0.7959 - val_loss: 0.5238 - val_acc: 0.7477\n",
            "Epoch 50/50\n",
            "144000/144000 - 40s - loss: 0.4276 - acc: 0.7963 - val_loss: 0.5184 - val_acc: 0.7502\n",
            "Training Complete\n"
          ],
          "name": "stdout"
        }
      ]
    },
    {
      "cell_type": "code",
      "metadata": {
        "id": "qxju4ItJKO8F",
        "colab_type": "code",
        "colab": {
          "base_uri": "https://localhost:8080/",
          "height": 607
        },
        "outputId": "894cacc5-81cc-4e78-e584-a079758983f0"
      },
      "source": [
        "import matplotlib.image  as mpimg\n",
        "import matplotlib.pyplot as plt\n",
        "\n",
        "#-----------------------------------------------------------\n",
        "# Retrieve a list of list results on training and test data\n",
        "# sets for each training epoch\n",
        "#-----------------------------------------------------------\n",
        "acc=history.history['acc']\n",
        "val_acc=history.history['val_acc']\n",
        "loss=history.history['loss']\n",
        "val_loss=history.history['val_loss']\n",
        "\n",
        "epochs=range(len(acc)) # Get number of epochs\n",
        "\n",
        "#------------------------------------------------\n",
        "# Plot training and validation accuracy per epoch\n",
        "#------------------------------------------------\n",
        "plt.plot(epochs, acc, 'r')\n",
        "plt.plot(epochs, val_acc, 'b')\n",
        "plt.title('Training and validation accuracy')\n",
        "plt.xlabel(\"Epochs\")\n",
        "plt.ylabel(\"Accuracy\")\n",
        "plt.legend([\"Accuracy\", \"Validation Accuracy\"])\n",
        "\n",
        "plt.figure()\n",
        "\n",
        "#------------------------------------------------\n",
        "# Plot training and validation loss per epoch\n",
        "#------------------------------------------------\n",
        "plt.plot(epochs, loss, 'r')\n",
        "plt.plot(epochs, val_loss, 'b')\n",
        "plt.title('Training and validation loss')\n",
        "plt.xlabel(\"Epochs\")\n",
        "plt.ylabel(\"Loss\")\n",
        "plt.legend([\"Loss\", \"Validation Loss\"])\n",
        "\n",
        "plt.figure()\n",
        "\n",
        "\n",
        "# Expected Output\n",
        "# A chart where the validation loss does not increase sharply!"
      ],
      "execution_count": 9,
      "outputs": [
        {
          "output_type": "execute_result",
          "data": {
            "text/plain": [
              "<Figure size 432x288 with 0 Axes>"
            ]
          },
          "metadata": {
            "tags": []
          },
          "execution_count": 9
        },
        {
          "output_type": "display_data",
          "data": {
            "image/png": "[encoded data removed]",
            "text/plain": [
              "<Figure size 432x288 with 1 Axes>"
            ]
          },
          "metadata": {
            "tags": []
          }
        },
        {
          "output_type": "display_data",
          "data": {
            "image/png": "[encoded data removed]",
            "text/plain": [
              "<Figure size 432x288 with 1 Axes>"
            ]
          },
          "metadata": {
            "tags": []
          }
        },
        {
          "output_type": "display_data",
          "data": {
            "text/plain": [
              "<Figure size 432x288 with 0 Axes>"
            ]
          },
          "metadata": {
            "tags": []
          }
        }
      ]
    }
  ]
}